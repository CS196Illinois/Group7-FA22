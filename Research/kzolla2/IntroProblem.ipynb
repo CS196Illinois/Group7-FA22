{
 "cells": [
  {
   "cell_type": "code",
   "execution_count": 13,
   "id": "9b01c038",
   "metadata": {},
   "outputs": [],
   "source": [
    "def decimalToBinary(baseNum): \n",
    "    nums1 = list()\n",
    "    nums2 = list()\n",
    "    \n",
    "    while baseNum >= 1:\n",
    "        binaryNum = int(baseNum % 2)\n",
    "        nums1.append(binaryNum)\n",
    "        baseNum = baseNum / 2\n",
    "        \n",
    "    for num in reversed(nums1):\n",
    "        nums2.append(num)\n",
    "    return nums2\n",
    "    \n",
    "    "
   ]
  },
  {
   "cell_type": "code",
   "execution_count": 15,
   "id": "5ed71273",
   "metadata": {},
   "outputs": [
    {
     "name": "stdout",
     "output_type": "stream",
     "text": [
      "Enter number: 12\n",
      "[1, 1, 0, 0]\n"
     ]
    }
   ],
   "source": [
    "num = int(input(\"Enter number: \"))\n",
    "print(decimalToBinary(num))"
   ]
  },
  {
   "cell_type": "code",
   "execution_count": null,
   "id": "ef87879e",
   "metadata": {},
   "outputs": [],
   "source": []
  },
  {
   "cell_type": "code",
   "execution_count": null,
   "id": "77c06583",
   "metadata": {},
   "outputs": [],
   "source": []
  }
 ],
 "metadata": {
  "kernelspec": {
   "display_name": "Python 3 (ipykernel)",
   "language": "python",
   "name": "python3"
  },
  "language_info": {
   "codemirror_mode": {
    "name": "ipython",
    "version": 3
   },
   "file_extension": ".py",
   "mimetype": "text/x-python",
   "name": "python",
   "nbconvert_exporter": "python",
   "pygments_lexer": "ipython3",
   "version": "3.9.12"
  }
 },
 "nbformat": 4,
 "nbformat_minor": 5
}
