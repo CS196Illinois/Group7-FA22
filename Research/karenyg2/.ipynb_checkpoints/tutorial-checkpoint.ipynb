{
 "cells": [
  {
   "cell_type": "code",
   "execution_count": 3,
   "id": "e01b4e7a",
   "metadata": {},
   "outputs": [],
   "source": [
    "import sqlite3 as sql"
   ]
  },
  {
   "cell_type": "code",
   "execution_count": null,
   "id": "631e3790",
   "metadata": {},
   "outputs": [],
   "source": [
    "conn = sql.connect(\"tester.db\")\n",
    "cur = conn.cursor()\n",
    "cur.execute(\"SELECT name FROM sqlite_schema WHERE type = 'table' AND name NOT LIKE 'sqlite_%';\")\n",
    "out = cur.fetchall()\n",
    "    \n",
    "name = str(out[0])\n",
    "name = name[2:len(name) - 3]\n",
    "\n",
    "conn.commit()\n",
    "conn.close()"
   ]
  },
  {
   "cell_type": "code",
   "execution_count": null,
   "id": "5c4ffc85",
   "metadata": {
    "scrolled": true
   },
   "outputs": [
    {
     "name": "stderr",
     "output_type": "stream",
     "text": [
      "\u001b[31m\u001b[1mWARNING: This is a development server. Do not use it in a production deployment. Use a production WSGI server instead.\u001b[0m\n",
      " * Running on http://localhost:8080\n",
      "\u001b[33mPress CTRL+C to quit\u001b[0m\n",
      "127.0.0.1 - - [11/Oct/2022 20:44:59] \"GET / HTTP/1.1\" 200 -\n",
      "127.0.0.1 - - [11/Oct/2022 20:45:00] \"\u001b[32mPOST / HTTP/1.1\u001b[0m\" 302 -\n",
      "127.0.0.1 - - [11/Oct/2022 20:45:00] \"GET /output/blank HTTP/1.1\" 200 -\n"
     ]
    }
   ],
   "source": [
    "# basic imports, just like you would normally use in a python file\n",
    "from werkzeug.wrappers import Request, Response\n",
    "from flask import Flask, render_template, request, url_for, flash, redirect\n",
    "\n",
    "# this sets up your flask app - you can treat this and the above imports and basic starter syntax\n",
    "# that you will always use anytime you want to create a new flask app\n",
    "app = Flask(__name__)\n",
    "app.config['SECRET_KEY'] = 'superdupersecretkeythatnobodywouldeverguess'\n",
    "\n",
    "\n",
    "# this app.route handles the index.html page - most other routes will require a specific file name,\n",
    "# but since index is the \"base\" of your application, it goes without an identifier\n",
    "@app.route(\"/\", methods=('GET', 'POST'))\n",
    "\n",
    "# creating a method below to handle any requests made to the index page\n",
    "def index():\n",
    "    \n",
    "    # checking if the method being used is POST - consult line 21 in index.html to see where\n",
    "    # we specify the method as POST. we can also change this to GET if we so choose\n",
    "    if request.method == 'POST':\n",
    "        \n",
    "        # this now calls @app.route(\"/output/<name>\"), and we assign <name> = name. For simplicity's sake,\n",
    "        # we normally keep the variable names the same, but you can change them to whatever you'd like\n",
    "        return redirect(url_for('output', name = name))\n",
    "    \n",
    "    # this is more of a dummy return since we'll never reach this point, but just in case something\n",
    "    # goes wrong, we want to reroute the user back to the index page\n",
    "    return render_template('index.html')\n",
    "\n",
    "# handles calls to output.html\n",
    "@app.route(\"/output/<name>\")\n",
    "def output(name):\n",
    "    \n",
    "    #creates a new list that holds the information we previously called from the database\n",
    "    return_list = []\n",
    "    return_list.append(name);\n",
    "    \n",
    "    # returns the scraped data as a list to output.html\n",
    "    return render_template('output.html', output_list=return_list)\n",
    "\n",
    "# Code taken from: https://stackoverflow.com/questions/41831929/debug-flask-server-inside-jupyter-notebook\n",
    "\n",
    "# this snippet of code is another syntactical inclusion - it's not as important to understand everything\n",
    "# that's happening here, but it essentially decides where your flask app is going to run on the local device\n",
    "if __name__ == '__main__':\n",
    "    from werkzeug.serving import run_simple\n",
    "\n",
    "    # the \"8080\" means that the flask app will run on http://localhost:8080/\n",
    "    # you can change this to any other viable port if 8080 is currently in use\n",
    "    # for example, you can change the line below to read \"run_simple('localhost', 9000, app)\", and then\n",
    "    # access the flask app through http://localhost:9000/ - the port is completely changeable and\n",
    "    # does not affect your code at all beyond where you access it from\n",
    "    run_simple('localhost', 8080, app)"
   ]
  },
  {
   "cell_type": "code",
   "execution_count": null,
   "id": "9289c10e",
   "metadata": {},
   "outputs": [],
   "source": []
  },
  {
   "cell_type": "code",
   "execution_count": null,
   "id": "3976f89f",
   "metadata": {},
   "outputs": [],
   "source": []
  }
 ],
 "metadata": {
  "kernelspec": {
   "display_name": "Python 3 (ipykernel)",
   "language": "python",
   "name": "python3"
  },
  "language_info": {
   "codemirror_mode": {
    "name": "ipython",
    "version": 3
   },
   "file_extension": ".py",
   "mimetype": "text/x-python",
   "name": "python",
   "nbconvert_exporter": "python",
   "pygments_lexer": "ipython3",
   "version": "3.9.6"
  }
 },
 "nbformat": 4,
 "nbformat_minor": 5
}
