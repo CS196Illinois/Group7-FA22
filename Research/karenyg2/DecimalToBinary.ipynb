{
 "cells": [
  {
   "cell_type": "code",
   "execution_count": 1,
   "id": "c9afabec",
   "metadata": {},
   "outputs": [],
   "source": [
    "def dec_to_binary(decValue):\n",
    "    backList = []\n",
    "    while decValue > 0:\n",
    "        binaryValue = decValue % 2\n",
    "        backList.append(binaryValue)\n",
    "        decValue = decValue // 2\n",
    "        \n",
    "    forList = []\n",
    "\n",
    "    for num in reversed(range(len(backList))):\n",
    "        forList.append(backList[num])\n",
    "            \n",
    "    bidict = {\n",
    "        decValue:forList\n",
    "    }\n",
    "    \n",
    "    return forList"
   ]
  },
  {
   "cell_type": "code",
   "execution_count": 3,
   "id": "0076955c",
   "metadata": {},
   "outputs": [
    {
     "name": "stdout",
     "output_type": "stream",
     "text": [
      "Enter a positive integer: 2\n",
      "10"
     ]
    }
   ],
   "source": [
    "x = int(input(\"Enter a positive integer: \"))\n",
    "\n",
    "newList = dec_to_binary(x)\n",
    "for n in newList:\n",
    "    print(n , end = \"\")"
   ]
  },
  {
   "cell_type": "code",
   "execution_count": null,
   "id": "739710f3",
   "metadata": {},
   "outputs": [],
   "source": []
  },
  {
   "cell_type": "code",
   "execution_count": null,
   "id": "8374fb6e",
   "metadata": {},
   "outputs": [],
   "source": []
  }
 ],
 "metadata": {
  "kernelspec": {
   "display_name": "Python 3 (ipykernel)",
   "language": "python",
   "name": "python3"
  },
  "language_info": {
   "codemirror_mode": {
    "name": "ipython",
    "version": 3
   },
   "file_extension": ".py",
   "mimetype": "text/x-python",
   "name": "python",
   "nbconvert_exporter": "python",
   "pygments_lexer": "ipython3",
   "version": "3.9.6"
  }
 },
 "nbformat": 4,
 "nbformat_minor": 5
}
