{
 "cells": [
  {
   "cell_type": "code",
   "execution_count": 10,
   "id": "a53669be",
   "metadata": {},
   "outputs": [],
   "source": [
    "def base10tobase2(base10num):\n",
    "    defaultbase10 = base10num\n",
    "    binaryReversed = []\n",
    "    while base10num > 0: \n",
    "        binaryvalue = base10num % 2\n",
    "        binaryReversed.append(binaryvalue)\n",
    "#newer versions of python will need // for floor division\n",
    "        base10num = base10num // 2\n",
    "    binary = []\n",
    "    for i in reversed(binaryReversed):\n",
    "        binary.append(i)\n",
    "    dict = {\n",
    "        defaultbase10 : binary\n",
    "    }\n",
    "    return binary\n",
    "        "
   ]
  },
  {
   "cell_type": "code",
   "execution_count": 9,
   "id": "50dfd334",
   "metadata": {},
   "outputs": [
    {
     "data": {
      "text/plain": [
       "[1, 1, 0, 0]"
      ]
     },
     "execution_count": 9,
     "metadata": {},
     "output_type": "execute_result"
    }
   ],
   "source": [
    "base10tobase2(12)"
   ]
  },
  {
   "cell_type": "code",
   "execution_count": null,
   "id": "ff03f7f9",
   "metadata": {},
   "outputs": [],
   "source": []
  }
 ],
 "metadata": {
  "kernelspec": {
   "display_name": "Python 3 (ipykernel)",
   "language": "python",
   "name": "python3"
  },
  "language_info": {
   "codemirror_mode": {
    "name": "ipython",
    "version": 3
   },
   "file_extension": ".py",
   "mimetype": "text/x-python",
   "name": "python",
   "nbconvert_exporter": "python",
   "pygments_lexer": "ipython3",
   "version": "3.10.7"
  }
 },
 "nbformat": 4,
 "nbformat_minor": 5
}
