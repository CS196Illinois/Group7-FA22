{
 "cells": [
  {
   "cell_type": "code",
   "execution_count": null,
   "id": "9dcb30e6",
   "metadata": {},
   "outputs": [],
   "source": [
    "import sqlite3 as sql"
   ]
  },
  {
   "cell_type": "code",
   "execution_count": null,
   "id": "6702f9b7",
   "metadata": {},
   "outputs": [],
   "source": [
    "conn = sql.connect(\"\")\n",
    "cur = conn.cursor()"
   ]
  },
  {
   "cell_type": "code",
   "execution_count": null,
   "id": "faf2e6aa",
   "metadata": {},
   "outputs": [],
   "source": [
    "cur.execute(\"SELECT name FROM sqlite_schema WHERE type ='table' AND name NOT LIKE 'sqlite_%';\")\n",
    "string = cur.fetchall()"
   ]
  },
  {
   "cell_type": "code",
   "execution_count": null,
   "id": "914012b5",
   "metadata": {},
   "outputs": [],
   "source": [
    "name = string[0][0]"
   ]
  },
  {
   "cell_type": "code",
   "execution_count": null,
   "id": "2e47f787",
   "metadata": {},
   "outputs": [],
   "source": [
    "from werkzeug.wrappers import Request, Response\n",
    "from flask import Flask, render_template, request, url_for, flash, redirect\n",
    "\n",
    "\n",
    "app = Flask(__name__)\n",
    "app.config['SECRET_KEY'] = 'superdupersecretkeythatnobodywouldeverguess'\n",
    "\n",
    "\n",
    "@app.route(\"/\", methods=('GET', 'POST'))\n",
    "\n",
    "\n",
    "def index():\n",
    "    if request.method == 'POST':\n",
    "        date = str(request.form[''])\n",
    "        return redirect(url_for('output', name = name))\n",
    "    \n",
    "    return render_template('index.html')\n",
    "\n",
    "\n",
    "@app.route(\"/output/<name>\")\n",
    "def output(name):\n",
    "    #call method, return list\n",
    "    return_list = []\n",
    "    return_list.append(name);\n",
    "    return render_template('output.html', output_list=return_list)\n",
    "\n",
    "\n",
    "if __name__ == '__main__':\n",
    "    from werkzeug.serving import run_simple\n",
    "    run_simple('localhost', 8080, app)\n"
   ]
  },
  {
   "cell_type": "code",
   "execution_count": null,
   "id": "612471ac",
   "metadata": {},
   "outputs": [],
   "source": [
    "conn.commit()\n",
    "conn.close()"
   ]
  }
 ],
 "metadata": {
  "kernelspec": {
   "display_name": "Python 3 (ipykernel)",
   "language": "python",
   "name": "python3"
  },
  "language_info": {
   "codemirror_mode": {
    "name": "ipython",
    "version": 3
   },
   "file_extension": ".py",
   "mimetype": "text/x-python",
   "name": "python",
   "nbconvert_exporter": "python",
   "pygments_lexer": "ipython3",
   "version": "3.10.5"
  }
 },
 "nbformat": 4,
 "nbformat_minor": 5
}
