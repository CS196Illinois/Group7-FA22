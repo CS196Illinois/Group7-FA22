{
 "cells": [
  {
   "cell_type": "code",
   "execution_count": 7,
   "id": "9e590e45",
   "metadata": {},
   "outputs": [],
   "source": [
    "import sqlite3 as sql"
   ]
  },
  {
   "cell_type": "code",
   "execution_count": 8,
   "id": "27586c8a",
   "metadata": {},
   "outputs": [],
   "source": [
    "conn = sql.connect(\"input.db\")"
   ]
  },
  {
   "cell_type": "code",
   "execution_count": 9,
   "id": "36e17b1d",
   "metadata": {},
   "outputs": [],
   "source": [
    "cur = conn.cursor()"
   ]
  },
  {
   "cell_type": "code",
   "execution_count": 10,
   "id": "8856bcf5",
   "metadata": {},
   "outputs": [
    {
     "ename": "OperationalError",
     "evalue": "table box already exists",
     "output_type": "error",
     "traceback": [
      "\u001b[0;31m---------------------------------------------------------------------------\u001b[0m",
      "\u001b[0;31mOperationalError\u001b[0m                          Traceback (most recent call last)",
      "Cell \u001b[0;32mIn [10], line 1\u001b[0m\n\u001b[0;32m----> 1\u001b[0m cur\u001b[38;5;241m.\u001b[39mexecute(\u001b[38;5;124m\"\u001b[39m\u001b[38;5;124mCREATE TABLE box(variable int, variable1 varchar(5));\u001b[39m\u001b[38;5;124m\"\u001b[39m)\n",
      "\u001b[0;31mOperationalError\u001b[0m: table box already exists"
     ]
    }
   ],
   "source": [
    "cur.execute(\"CREATE TABLE box(variable int, variable1 varchar(5));\")"
   ]
  },
  {
   "cell_type": "code",
   "execution_count": null,
   "id": "7a490f2d",
   "metadata": {},
   "outputs": [],
   "source": [
    "cur.fetchall()"
   ]
  },
  {
   "cell_type": "code",
   "execution_count": 16,
   "id": "ba2bb7c4",
   "metadata": {},
   "outputs": [
    {
     "data": {
      "text/plain": [
       "<sqlite3.Cursor at 0x107e22840>"
      ]
     },
     "execution_count": 16,
     "metadata": {},
     "output_type": "execute_result"
    }
   ],
   "source": [
    "cur.execute(\"SELECT name FROM sqlite_schema WHERE type= 'table' AND name NOT LIKE 'sqlite_%';\")"
   ]
  },
  {
   "cell_type": "code",
   "execution_count": 17,
   "id": "e04d3979",
   "metadata": {},
   "outputs": [
    {
     "data": {
      "text/plain": [
       "[('box',)]"
      ]
     },
     "execution_count": 17,
     "metadata": {},
     "output_type": "execute_result"
    }
   ],
   "source": [
    "cur.fetchall()"
   ]
  },
  {
   "cell_type": "code",
   "execution_count": null,
   "id": "54bfaa6b",
   "metadata": {},
   "outputs": [],
   "source": [
    "conn.commit()"
   ]
  },
  {
   "cell_type": "code",
   "execution_count": null,
   "id": "06644a4d",
   "metadata": {},
   "outputs": [],
   "source": [
    "conn.close()"
   ]
  }
 ],
 "metadata": {
  "kernelspec": {
   "display_name": "Python 3 (ipykernel)",
   "language": "python",
   "name": "python3"
  },
  "language_info": {
   "codemirror_mode": {
    "name": "ipython",
    "version": 3
   },
   "file_extension": ".py",
   "mimetype": "text/x-python",
   "name": "python",
   "nbconvert_exporter": "python",
   "pygments_lexer": "ipython3",
   "version": "3.10.5"
  }
 },
 "nbformat": 4,
 "nbformat_minor": 5
}
