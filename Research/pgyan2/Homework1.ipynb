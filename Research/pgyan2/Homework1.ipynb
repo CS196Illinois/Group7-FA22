{
 "cells": [
  {
   "cell_type": "code",
   "execution_count": 25,
   "id": "d40268b4",
   "metadata": {},
   "outputs": [],
   "source": [
    "binaryvalues = []\n",
    "def base10tobase2(value):\n",
    "    while value != 0:\n",
    "        binary = int(value % 2)\n",
    "        binaryvalues.append(binary)\n",
    "        value = int(value / 2)\n",
    "    print (binaryvalues)\n",
    "    list2 = list()\n",
    "    L = len(binaryvalues)\n",
    "    for x in reversed(range(L)) :\n",
    "        list2.append(binaryvalues[x])\n",
    "    \n",
    "    thisdict = {\n",
    "        value: list2\n",
    "    }  \n",
    "    print(list2) \n",
    "    return binaryvalues"
   ]
  },
  {
   "cell_type": "code",
   "execution_count": 26,
   "id": "df042e49",
   "metadata": {},
   "outputs": [
    {
     "name": "stdout",
     "output_type": "stream",
     "text": [
      "Enter a positive integer: 6\n",
      "[0, 1, 1]\n",
      "[1, 1, 0]\n"
     ]
    }
   ],
   "source": [
    "value = int(input(\"Enter a positive integer: \"))   \n",
    "list1 = list()\n",
    "list1 = base10tobase2(value)\n",
    "#print(list1)"
   ]
  },
  {
   "cell_type": "code",
   "execution_count": null,
   "id": "673a28be",
   "metadata": {},
   "outputs": [],
   "source": []
  },
  {
   "cell_type": "code",
   "execution_count": null,
   "id": "4bf35c98",
   "metadata": {},
   "outputs": [],
   "source": []
  }
 ],
 "metadata": {
  "kernelspec": {
   "display_name": "Python 3 (ipykernel)",
   "language": "python",
   "name": "python3"
  },
  "language_info": {
   "codemirror_mode": {
    "name": "ipython",
    "version": 3
   },
   "file_extension": ".py",
   "mimetype": "text/x-python",
   "name": "python",
   "nbconvert_exporter": "python",
   "pygments_lexer": "ipython3",
   "version": "3.10.5"
  }
 },
 "nbformat": 4,
 "nbformat_minor": 5
}
