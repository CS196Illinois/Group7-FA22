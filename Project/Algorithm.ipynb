{
 "cells": [
  {
   "cell_type": "code",
   "execution_count": 1,
   "id": "1a015e47",
   "metadata": {},
   "outputs": [],
   "source": [
    "# Check the resources doc if you haven't already!\n",
    "# Also please add whatever interesting/useful sources you find on there for everyone else!\n",
    "\n",
    "# Text summarization tends to have two approaches: extraction and abstraction\n",
    "# Because abstraction is more complex, we can try to build an extraction algorithm first\n",
    "# We can worry about all the stuff with NLTK and reading HTML files with Beautiful Soup later (if we want to make this into extension)\n",
    "# Although I would definitely recommend checking it out to get an idea of how we can go forward from here"
   ]
  },
  {
   "cell_type": "code",
   "execution_count": 2,
   "id": "6c4c7441",
   "metadata": {},
   "outputs": [],
   "source": [
    "# For collaborators, right now I'm using the algorithm here:\n",
    "# https://blog.floydhub.com/gentle-introduction-to-text-summarization-in-machine-learning/\n",
    "# (while trying to cut out NLTK, Beautiful Soup, etc)"
   ]
  },
  {
   "cell_type": "code",
   "execution_count": 3,
   "id": "a2410f69",
   "metadata": {},
   "outputs": [],
   "source": [
    "# Should try to make this less memory intensive\n",
    "# paragraphContent could be fetched from database file\n",
    "paragraphContent = ''"
   ]
  },
  {
   "cell_type": "code",
   "execution_count": 7,
   "id": "dfd2498c",
   "metadata": {},
   "outputs": [],
   "source": [
    "def cutParagraph(content):\n",
    "    # take in a paragraph, splits it along periods to create list of sentences\n",
    "    allSentences = content.split(\".\")\n",
    "    for sentence in allSentences:\n",
    "        sentence = sentence.lstrip()\n",
    "    return allSentences;"
   ]
  },
  {
   "cell_type": "code",
   "execution_count": 8,
   "id": "08a72ea9",
   "metadata": {},
   "outputs": [],
   "source": [
    "paragraphContent = \"\"\"I just realized that this is probably going to be harder than I thought it would be. First of all, getting text into this thing to test use cases is hard. There is almost always something in the text that messes with how python parses. And a simple string split may wreck the formatting of the sentence. So we may actually have to use the stuff in NLTK and Beautiful Soup to start making this easier. Once we have a working system set up between the input website, the database, Flask, and the algorithm file, it may be easier to start testing more use cases.\"\"\""
   ]
  },
  {
   "cell_type": "code",
   "execution_count": 9,
   "id": "885a3410",
   "metadata": {},
   "outputs": [
    {
     "name": "stdout",
     "output_type": "stream",
     "text": [
      "I just realized that this is probably going to be harder than I thought it would be\n",
      " First of all, getting text into this thing to test use cases is hard\n",
      " There is almost always something in the text that messes with how python parses\n",
      " And a simple string split may wreck the formatting of the sentence\n",
      " So we may actually have to use the stuff in NLTK and Beautiful Soup to start making this easier\n",
      " Once we have a working system set up between the input website, the database, Flask, and the algorithm file, it may be easier to start testing more use cases\n",
      "\n"
     ]
    }
   ],
   "source": [
    "cut = cutParagraph(paragraphContent)\n",
    "for i in cut: \n",
    "    print(i)"
   ]
  },
  {
   "cell_type": "code",
   "execution_count": null,
   "id": "4851e82b",
   "metadata": {},
   "outputs": [],
   "source": []
  },
  {
   "cell_type": "code",
   "execution_count": null,
   "id": "3e131349",
   "metadata": {},
   "outputs": [],
   "source": []
  },
  {
   "cell_type": "code",
   "execution_count": null,
   "id": "a108c0d9",
   "metadata": {},
   "outputs": [],
   "source": []
  }
 ],
 "metadata": {
  "kernelspec": {
   "display_name": "Python 3 (ipykernel)",
   "language": "python",
   "name": "python3"
  },
  "language_info": {
   "codemirror_mode": {
    "name": "ipython",
    "version": 3
   },
   "file_extension": ".py",
   "mimetype": "text/x-python",
   "name": "python",
   "nbconvert_exporter": "python",
   "pygments_lexer": "ipython3",
   "version": "3.10.8"
  }
 },
 "nbformat": 4,
 "nbformat_minor": 5
}
