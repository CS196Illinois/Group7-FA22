{
 "cells": [
  {
   "cell_type": "code",
   "execution_count": 2,
   "id": "136e7adf",
   "metadata": {},
   "outputs": [
    {
     "name": "stderr",
     "output_type": "stream",
     "text": [
      "[nltk_data] Downloading package punkt to\n",
      "[nltk_data]     C:\\Users\\jrh25\\AppData\\Roaming\\nltk_data...\n",
      "[nltk_data]   Package punkt is already up-to-date!\n",
      "[nltk_data] Downloading package stopwords to\n",
      "[nltk_data]     C:\\Users\\jrh25\\AppData\\Roaming\\nltk_data...\n",
      "[nltk_data]   Package stopwords is already up-to-date!\n"
     ]
    }
   ],
   "source": [
    "import nltk\n",
    "nltk.download('punkt')\n",
    "nltk.download('stopwords')\n",
    "from nltk.corpus import stopwords\n",
    "from nltk.stem import PorterStemmer\n",
    "from nltk.tokenize import sent_tokenize\n",
    "from nltk.tokenize import word_tokenize"
   ]
  },
  {
   "cell_type": "code",
   "execution_count": 3,
   "id": "a8d097aa",
   "metadata": {},
   "outputs": [
    {
     "name": "stdout",
     "output_type": "stream",
     "text": [
      "{\"that'll\", 'we', 'shouldn', \"shan't\", \"hasn't\", \"isn't\", 'very', 'yours', 'she', 're', \"didn't\", 'it', 'this', 'and', \"aren't\", 'his', 'all', 'for', 'such', 'our', 'herself', 'you', 'was', 'any', \"it's\", 'can', 'again', 'how', 'couldn', 'below', \"hadn't\", \"needn't\", 'your', \"you're\", 'the', 'because', 'him', 'before', 'myself', 'just', 'when', 'both', 'here', 'he', 'above', 'once', \"shouldn't\", 'where', 'haven', 'wouldn', \"haven't\", 'itself', 'now', 'an', 'these', 'over', 't', 'needn', \"doesn't\", 'most', 'who', 'but', 'own', 'll', 'don', 'nor', 'be', \"you've\", 'what', 'mightn', 'from', 'up', 'yourself', 'between', 'with', 'a', 'aren', \"couldn't\", 'while', 'did', 'himself', 'of', 'only', 'd', 'weren', 'too', 'yourselves', 'at', 'had', 'isn', 'few', 'y', 'theirs', 'should', 'been', 'themselves', 'having', 'them', 'is', 'are', 'than', 'have', 'being', 'were', 'there', 'will', 'hasn', 'hers', 'off', 'until', 'during', 'some', 'they', 'under', \"you'll\", 'mustn', 'won', 'more', 'didn', 'me', 'my', \"you'd\", 'i', \"wouldn't\", \"she's\", 'about', 'on', \"wasn't\", \"weren't\", 'ourselves', 'has', 'ain', 'not', 've', 'if', 'or', 'into', 'after', 'its', 'am', 'hadn', 'whom', 'which', \"mightn't\", \"mustn't\", 'their', 'why', 'ma', 'doing', 'through', 'out', 'to', 's', 'does', 'against', \"should've\", 'then', 'by', \"won't\", 'no', 'as', 'that', 'those', 'same', 'further', \"don't\", 'o', 'doesn', 'wasn', 'other', 'm', 'so', 'ours', 'shan', 'down', 'her', 'each', 'do', 'in'}\n"
     ]
    }
   ],
   "source": [
    "# stopwords\n",
    "# stop words are basically all the extraneous words in each sentence that we can feasibly ignore\n",
    "# this would (ideally) leave us with just the main nouns, verbs and such in the sentence\n",
    "# we will use this in later functions\n",
    "# note that in the end, stopwords is literally a list of useless words\n",
    "# that means that we can make our own list of words, characters, or punctuation to ignore in the future\n",
    "stop_words = set(stopwords.words('english'))\n",
    "print(stop_words)"
   ]
  },
  {
   "cell_type": "code",
   "execution_count": 4,
   "id": "2e0c1821",
   "metadata": {},
   "outputs": [
    {
     "name": "stdout",
     "output_type": "stream",
     "text": [
      "clean\n",
      "clean\n"
     ]
    }
   ],
   "source": [
    "# PorterStemmer()\n",
    "# The PorterStemmer() function simply diminishes a word to its root base. \n",
    "# For example, \"cleaning\" and \"cleaned\" would both return as \"clean\"\n",
    "stem = PorterStemmer()\n",
    "wd = stem.stem(\"cleaning\")\n",
    "print(wd)\n",
    "wd1 = stem.stem(\"cleaned\")\n",
    "print(wd1)"
   ]
  },
  {
   "cell_type": "code",
   "execution_count": 5,
   "id": "1e1e97ec",
   "metadata": {},
   "outputs": [
    {
     "name": "stdout",
     "output_type": "stream",
     "text": [
      "Sally sells seashells by the seashore.\n",
      "She worries that she doesn't have enough seashells to sell on the seashore.\n",
      "She won't give up.\n",
      "Sally wants to sell seashells on the seashore, because she likes to sell seashells on the seashore.\n",
      "She is selling seashells on the seashell shore.\n",
      "How much wood could the woodchuck chuck if the woodchuck could chuck wood?\n",
      "She sells seashells by the seashore.\n"
     ]
    }
   ],
   "source": [
    "# sent_tokenize\n",
    "# processes a paragraph into a list with multiple sentences\n",
    "# for the purposes of the algorithm, we use this instead of split\n",
    "paragraphContent = \"\"\"Sally sells seashells by the seashore. She worries that she doesn't have enough seashells to sell on the seashore. She won't give up. Sally wants to sell seashells on the seashore, because she likes to sell seashells on the seashore. She is selling seashells on the seashell shore. How much wood could the woodchuck chuck if the woodchuck could chuck wood? She sells seashells by the seashore.\"\"\"\n",
    "allSentences = sent_tokenize(paragraphContent)\n",
    "for i in allSentences:\n",
    "    print(i)\n"
   ]
  },
  {
   "cell_type": "code",
   "execution_count": 10,
   "id": "9ac170a3",
   "metadata": {},
   "outputs": [
    {
     "name": "stdout",
     "output_type": "stream",
     "text": [
      "This\n",
      "is\n",
      "an\n",
      "example\n",
      "sentence\n",
      ",\n",
      "it\n",
      "is\n",
      "n't\n",
      "anything\n",
      "complicated\n",
      ".\n",
      "\n",
      "\n",
      "['Sally', 'sells', 'seashells', 'by', 'the', 'seashore', '.']\n"
     ]
    }
   ],
   "source": [
    "# word_tokenize\n",
    "# processes a sentence into a list with all words and punctuation in the sentence\n",
    "# for the purposes of the algorithm we use this instead of split\n",
    "sentence = \"This is an example sentence, it isn't anything complicated.\"\n",
    "words = word_tokenize(sentence)\n",
    "for i in words:\n",
    "    print(i)\n",
    "\n",
    "\n",
    "sentence = \"Sally sells seashells by the seashore.\"\n",
    "words = word_tokenize(sentence)\n",
    "print(\"\\n\")\n",
    "print(words)"
   ]
  },
  {
   "cell_type": "code",
   "execution_count": null,
   "id": "d73c7057",
   "metadata": {},
   "outputs": [],
   "source": []
  }
 ],
 "metadata": {
  "kernelspec": {
   "display_name": "Python 3 (ipykernel)",
   "language": "python",
   "name": "python3"
  },
  "language_info": {
   "codemirror_mode": {
    "name": "ipython",
    "version": 3
   },
   "file_extension": ".py",
   "mimetype": "text/x-python",
   "name": "python",
   "nbconvert_exporter": "python",
   "pygments_lexer": "ipython3",
   "version": "3.10.8"
  }
 },
 "nbformat": 4,
 "nbformat_minor": 5
}
