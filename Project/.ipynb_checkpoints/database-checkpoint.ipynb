{
 "cells": [
  {
   "cell_type": "code",
   "execution_count": 2,
   "id": "d13cd8f0",
   "metadata": {},
   "outputs": [],
   "source": [
    "import sqlite3 as sql"
   ]
  },
  {
   "cell_type": "code",
   "execution_count": 3,
   "id": "54e7a666",
   "metadata": {},
   "outputs": [],
   "source": [
    "conn = sql.connect(\"data.db\")"
   ]
  },
  {
   "cell_type": "code",
   "execution_count": 4,
   "id": "5d7acd26",
   "metadata": {},
   "outputs": [],
   "source": [
    "cur = conn.cursor()"
   ]
  },
  {
   "cell_type": "code",
   "execution_count": 28,
   "id": "dfe0c468",
   "metadata": {},
   "outputs": [
    {
     "data": {
      "text/plain": [
       "<sqlite3.Cursor at 0x7fbbc07ff8f0>"
      ]
     },
     "execution_count": 28,
     "metadata": {},
     "output_type": "execute_result"
    }
   ],
   "source": [
    "# cur.execute(\"DROP TABLE datatable;\")"
   ]
  },
  {
   "cell_type": "code",
   "execution_count": 29,
   "id": "e0e4a6b3",
   "metadata": {},
   "outputs": [
    {
     "data": {
      "text/plain": [
       "<sqlite3.Cursor at 0x7fbbc07ff8f0>"
      ]
     },
     "execution_count": 29,
     "metadata": {},
     "output_type": "execute_result"
    }
   ],
   "source": [
    "# cur.execute(\"CREATE TABLE datatable(text MEDIUMTEXT, keywords varchar(100), PRIMARY KEY(text));\")"
   ]
  },
  {
   "cell_type": "code",
   "execution_count": 30,
   "id": "2327d773",
   "metadata": {},
   "outputs": [
    {
     "data": {
      "text/plain": [
       "[('datatable',)]"
      ]
     },
     "execution_count": 30,
     "metadata": {},
     "output_type": "execute_result"
    }
   ],
   "source": [
    "cur.execute(\"SELECT name FROM sqlite_schema WHERE type='table' AND name NOT LIKE 'sqlite_%';\")\n",
    "cur.fetchall()"
   ]
  },
  {
   "cell_type": "code",
   "execution_count": 43,
   "id": "d574ca49",
   "metadata": {},
   "outputs": [],
   "source": [
    "conn.commit()"
   ]
  },
  {
   "cell_type": "code",
   "execution_count": 32,
   "id": "4075c1ef",
   "metadata": {},
   "outputs": [],
   "source": [
    "def insert(values):\n",
    "    # opened and closed connection here since Flask started giving errors about closed database\n",
    "    conn = sql.connect(\"data.db\")\n",
    "    cur = conn.cursor()\n",
    "    tester = [values[0]]\n",
    "    cur.execute(\"select * from datatable where text = ?\", tester)\n",
    "    output = cur.fetchall()\n",
    "    if len(output) == 0:\n",
    "        cur.execute(\"INSERT INTO datatable VALUES (?, ?)\", values)\n",
    "        conn.commit()\n",
    "    else:\n",
    "        print(\"exists\")\n",
    "    conn.close()"
   ]
  },
  {
   "cell_type": "code",
   "execution_count": 36,
   "id": "df521a91",
   "metadata": {},
   "outputs": [
    {
     "data": {
      "text/plain": [
       "[('url1', ',hi,hello,hey'),\n",
       " ('url2', ',hi,heyo,hello'),\n",
       " ('url3', ',hi,hey,hello'),\n",
       " ('url4', ',hi,test,bye')]"
      ]
     },
     "execution_count": 36,
     "metadata": {},
     "output_type": "execute_result"
    }
   ],
   "source": [
    "cur.execute(\"select * from datatable\")\n",
    "cur.fetchall()"
   ]
  },
  {
   "cell_type": "code",
   "execution_count": 18,
   "id": "aad859ea",
   "metadata": {},
   "outputs": [
    {
     "data": {
      "text/plain": [
       "[]"
      ]
     },
     "execution_count": 18,
     "metadata": {},
     "output_type": "execute_result"
    }
   ],
   "source": [
    "# SQL gives each row a pseudocolumn, rowid\n",
    "cur.execute(\"SELECT rowid, * FROM datatable\")\n",
    "cur.fetchall()"
   ]
  },
  {
   "cell_type": "code",
   "execution_count": 19,
   "id": "9ad7ad07",
   "metadata": {},
   "outputs": [
    {
     "data": {
      "text/plain": [
       "False"
      ]
     },
     "execution_count": 19,
     "metadata": {},
     "output_type": "execute_result"
    }
   ],
   "source": [
    "from ipynb.fs.full.Common_Elements_Algorithm import hasCommonElements\n",
    "\n",
    "l1 = [1, 2, 3, 4]\n",
    "l2 = [3, 2, 1, 4]\n",
    "hasCommonElements(l1, l2, 5)"
   ]
  },
  {
   "cell_type": "code",
   "execution_count": 20,
   "id": "5dd20245",
   "metadata": {},
   "outputs": [],
   "source": [
    "cur.execute(\"select keywords from datatable\")\n",
    "for row in cur:\n",
    "    keyWordList = row[0].split(\",\")\n",
    "    print(keyWordList)"
   ]
  },
  {
   "cell_type": "code",
   "execution_count": 21,
   "id": "46b66f6f",
   "metadata": {},
   "outputs": [],
   "source": [
    "def findMatches(inputKeys, degreesOfSimilarity):\n",
    "    searchList = []\n",
    "    conn = sql.connect(\"data.db\")\n",
    "    cur = conn.cursor()\n",
    "    cur2 = conn.cursor()\n",
    "    cur.execute(\"select keywords from datatable\")\n",
    "    cur2.execute(\"select text from datatable\")\n",
    "    x = cur2.fetchall()\n",
    "    i = 0\n",
    "    for row in cur:\n",
    "        keyWordList = row[0].split(\",\")\n",
    "        if hasCommonElements(keyWordList, inputKeys, degreesOfSimilarity) == True:\n",
    "            keyWordList[0] = x[i]\n",
    "            searchList.append(keyWordList)\n",
    "        i = i + 1\n",
    "    conn.commit()\n",
    "    conn.close()\n",
    "    return searchList"
   ]
  },
  {
   "cell_type": "code",
   "execution_count": 34,
   "id": "6ed09c85",
   "metadata": {},
   "outputs": [],
   "source": [
    "t = \"url1\"\n",
    "x = \",hi,hello,hey\"\n",
    "values = [t, x]\n",
    "insert(values)\n",
    "t = \"url2\"\n",
    "x = \",hi,heyo,hello\"\n",
    "values = [t, x]\n",
    "insert(values)\n",
    "t = \"url3\"\n",
    "x = \",hi,hey,hello\"\n",
    "values = [t, x]\n",
    "insert(values)\n",
    "t = \"url4\"\n",
    "x = \",hi,test,bye\"\n",
    "values = [t, x]\n",
    "insert(values)"
   ]
  },
  {
   "cell_type": "code",
   "execution_count": 16,
   "id": "6adb4a15",
   "metadata": {},
   "outputs": [],
   "source": [
    "conn.commit()\n",
    "conn.close()"
   ]
  },
  {
   "cell_type": "code",
   "execution_count": 44,
   "id": "f6a94eee",
   "metadata": {},
   "outputs": [
    {
     "name": "stdout",
     "output_type": "stream",
     "text": [
      "[[('url4',), 'woman', 'test', 'bye'], [('url5',), 'woman', 'New', 'Zealand']]\n"
     ]
    }
   ],
   "source": [
    "testlist = ['woman', \"New\", 'Zealand']\n",
    "print(findMatches(testlist, 1))"
   ]
  },
  {
   "cell_type": "code",
   "execution_count": 42,
   "id": "3eff257e",
   "metadata": {},
   "outputs": [],
   "source": [
    "t = \"url5\"\n",
    "x = \",woman,test,bye\"\n",
    "values = [t, x]\n",
    "insert(values)"
   ]
  },
  {
   "cell_type": "code",
   "execution_count": null,
   "id": "8defdd4a",
   "metadata": {},
   "outputs": [],
   "source": []
  }
 ],
 "metadata": {
  "kernelspec": {
   "display_name": "Python 3",
   "language": "python",
   "name": "python3"
  },
  "language_info": {
   "codemirror_mode": {
    "name": "ipython",
    "version": 3
   },
   "file_extension": ".py",
   "mimetype": "text/x-python",
   "name": "python",
   "nbconvert_exporter": "python",
   "pygments_lexer": "ipython3",
   "version": "3.8.8"
  }
 },
 "nbformat": 4,
 "nbformat_minor": 5
}
