{
 "cells": [
  {
   "cell_type": "code",
   "execution_count": 1,
   "id": "d13cd8f0",
   "metadata": {},
   "outputs": [],
   "source": [
    "import sqlite3 as sql"
   ]
  },
  {
   "cell_type": "code",
   "execution_count": 3,
   "id": "54e7a666",
   "metadata": {},
   "outputs": [],
   "source": [
    "conn = sql.connect(\"data.db\")"
   ]
  },
  {
   "cell_type": "code",
   "execution_count": 4,
   "id": "5d7acd26",
   "metadata": {},
   "outputs": [],
   "source": [
    "cur = conn.cursor()"
   ]
  },
  {
   "cell_type": "code",
   "execution_count": 5,
   "id": "e0e4a6b3",
   "metadata": {},
   "outputs": [
    {
     "data": {
      "text/plain": [
       "<sqlite3.Cursor at 0x2061eefec40>"
      ]
     },
     "execution_count": 5,
     "metadata": {},
     "output_type": "execute_result"
    }
   ],
   "source": [
    "#cur.execute(\"CREATE TABLE datatable(text MEDIUMTEXT, keywords varchar(100), PRIMARY KEY(text));\")"
   ]
  },
  {
   "cell_type": "code",
   "execution_count": 6,
   "id": "2327d773",
   "metadata": {},
   "outputs": [
    {
     "data": {
      "text/plain": [
       "[('datatable',)]"
      ]
     },
     "execution_count": 6,
     "metadata": {},
     "output_type": "execute_result"
    }
   ],
   "source": [
    "cur.execute(\"SELECT name FROM sqlite_schema WHERE type='table' AND name NOT LIKE 'sqlite_%';\")\n",
    "cur.fetchall()"
   ]
  },
  {
   "cell_type": "code",
   "execution_count": 7,
   "id": "d574ca49",
   "metadata": {},
   "outputs": [],
   "source": [
    "conn.commit()"
   ]
  },
  {
   "cell_type": "code",
   "execution_count": 8,
   "id": "4075c1ef",
   "metadata": {},
   "outputs": [],
   "source": [
    "def insert(values):\n",
    "    tester = [values[0]]\n",
    "    cur.execute(\"select * from datable where text = ?\", tester)\n",
    "    ouput = cur.fetchall()\n",
    "    if len(output) == 0:\n",
    "        cur.execute(\"INSERT INTO datatable (text, keywords) VALUES (?, ?)\", values)\n",
    "        conn.commit()\n",
    "    else:\n",
    "        print(\"exists\")"
   ]
  },
  {
   "cell_type": "code",
   "execution_count": 9,
   "id": "df521a91",
   "metadata": {},
   "outputs": [
    {
     "data": {
      "text/plain": [
       "[]"
      ]
     },
     "execution_count": 9,
     "metadata": {},
     "output_type": "execute_result"
    }
   ],
   "source": [
    "cur.execute(\"select * from datatable\")\n",
    "cur.fetchall()"
   ]
  },
  {
   "cell_type": "code",
   "execution_count": null,
   "id": "6ed09c85",
   "metadata": {},
   "outputs": [],
   "source": []
  }
 ],
 "metadata": {
  "kernelspec": {
   "display_name": "Python 3 (ipykernel)",
   "language": "python",
   "name": "python3"
  },
  "language_info": {
   "codemirror_mode": {
    "name": "ipython",
    "version": 3
   },
   "file_extension": ".py",
   "mimetype": "text/x-python",
   "name": "python",
   "nbconvert_exporter": "python",
   "pygments_lexer": "ipython3",
   "version": "3.10.8"
  }
 },
 "nbformat": 4,
 "nbformat_minor": 5
}
