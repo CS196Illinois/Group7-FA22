{
 "cells": [
  {
   "cell_type": "code",
   "execution_count": 1,
   "id": "9dcb30e6",
   "metadata": {},
   "outputs": [],
   "source": [
    "import sqlite3 as sql\n",
    "import requests\n",
    "from bs4 import BeautifulSoup\n",
    "import re"
   ]
  },
  {
   "cell_type": "code",
   "execution_count": 2,
   "id": "6702f9b7",
   "metadata": {},
   "outputs": [],
   "source": [
    "conn = sql.connect(\"data.db\")\n",
    "cur = conn.cursor()"
   ]
  },
  {
   "cell_type": "code",
   "execution_count": 3,
   "id": "faf2e6aa",
   "metadata": {},
   "outputs": [
    {
     "data": {
      "text/plain": [
       "[('datatable',)]"
      ]
     },
     "execution_count": 3,
     "metadata": {},
     "output_type": "execute_result"
    }
   ],
   "source": [
    "cur.execute(\"SELECT name FROM sqlite_schema WHERE type ='table' AND name NOT LIKE 'sqlite_%';\")\n",
    "cur.fetchall()"
   ]
  },
  {
   "cell_type": "code",
   "execution_count": 4,
   "id": "93de512e",
   "metadata": {},
   "outputs": [],
   "source": [
    "def scrape(link):\n",
    "    html_doc = requests.get(link).text\n",
    "    soup = BeautifulSoup(html_doc, \"html5lib\")\n",
    "    fulltext = \"\"\n",
    "    for paragraph in soup.find_all('p'):\n",
    "        paragraph = paragraph.get_text().strip()\n",
    "        fulltext = fulltext + \" \" + paragraph\n",
    "    return fulltext"
   ]
  },
  {
   "cell_type": "code",
   "execution_count": 5,
   "id": "cdb13fb7",
   "metadata": {},
   "outputs": [
    {
     "name": "stdout",
     "output_type": "stream",
     "text": [
      " BEIJING, Nov 30 (Reuters) - Three Chinese astronauts arrived on Wednesday at China's space station for the first in-orbit crew rotation in Chinese space history, launching operation of the second inhabited outpost in low-Earth orbit after the NASA-led International Space Station. The spacecraft Shenzhou-15, or \"Divine Vessel\", and its three passengers lifted off atop a Long March-2F rocket from the Jiuquan Satellite Launch Centre at 11:08 p.m. (1508 GMT) on Tuesday in sub-freezing temperatures in the Gobi Desert in northwest China, according to state television. Shenzhou-15 was the last of 11 missions, including three previous crewed missions, needed to assemble the \"Celestial Palace\", as the multi-module station is known in Chinese. The first mission was launched in April 2021. The spacecraft docked with the station more than six hours after the launch, and the three Shenzhou-15 astronauts were greeted with warm hugs from the previous Shenzhou crew from whom they were taking over. The Shenzhou-14 crew, who arrived in early June, will return to Earth after a one-week handover that will establish the station's ability to temporarily sustain six astronauts, another record for China's space programme. The Shenzhou-15 mission offered the nation a rare moment to celebrate, at a time of widespread unhappiness over China's zero-COVID policies, while its economy cools amid uncertainties at home and abroad. \"Long live the motherland!\" many Chinese netizens wrote on social media. The \"Celestial Palace\" was the culmination of nearly two decades of Chinese crewed missions to space. China's manned space flights began in 2003 when a former fighter pilot, Yang Liwei, was sent into orbit in a small bronze-coloured capsule, the Shenzhou-5, and became China's first man in space and an instant hero cheered by millions at home. The space station was also an emblem of China's growing clout and confidence in its space endeavours and a challenger to the United States in the domain, after being isolated from the NASA-led ISS and banned by U.S. law from any collaboration, direct or indirect, with the American space agency. Leading the Shenzhou-15 mission was Fei Junlong, 57, who hailed from China's first batch of astronaut trainees in the late 1990s. His previous visit to space was 17 years ago as commander of China's second-ever crewed spaceflight. Fei was flanked by Deng Qingming, 56, who had trained for 24 years as an astronaut but had never been chosen for a mission until Shenzhou-15. They were joined by former air force pilot Zhang Lu, 46, also a space debutant. The astronauts will live and work on the T-shaped space outpost for six months. The next batch of \"taikonauts\", coined from the Chinese word for space, to board the station, in 2023, will be picked from the third generation of astronauts with scientific backgrounds. The first and second batches of astronauts in the 1990s-2000s were all former air force pilots. China has started the selection process for the fourth batch, seeking candidates with doctoral degrees in disciplines from biology, physics and chemistry to biomedical engineering and astronomy. The selection process has also been opened to applicants from Hong Kong and Macau for the first time. During the space station's operation over the next decade, China is expected to launch two crewed missions to the orbiting outpost each year. Resident astronauts are expected to conduct more than 1,000 scientific experiments - from studying how plants adapt in space to how fluids behave in microgravity. While still in its infancy compared with NASA's technologies and experience, China's space programme has come far since the mid-20th century, when the country's late leader Mao Zedong lamented that China could not even launch a potato into orbit. Our Standards: The Thomson Reuters Trust Principles. Japan will extend its participation in the International Space Station (ISS) programme to 2030, education and science minister Keiko Nagaoka said on Friday, following the footsteps of ally the United States. Reuters, the news and media division of Thomson Reuters, is the world’s largest multimedia news provider, reaching billions of people worldwide every day. Reuters provides business, financial, national and international news to professionals via desktop terminals, the world's media organizations, industry events and directly to consumers. Build the strongest argument relying on authoritative content, attorney-editor expertise, and industry defining technology. The most comprehensive solution to manage all your complex and ever-expanding tax and compliance needs. The industry leader for online information for tax, accounting and finance professionals. Access unmatched financial data, news and content in a highly-customised workflow experience on desktop, web and mobile. Browse an unrivalled portfolio of real-time and historical market data and insights from worldwide sources and experts. Screen for heightened risk individual and entities globally to help uncover hidden risks in business relationships and human networks. All quotes delayed a minimum of 15 minutes. See here for a complete list of exchanges and delays. © 2022 Reuters. All rights reserved\n"
     ]
    }
   ],
   "source": [
    "print(scrape(\"https://www.reuters.com/lifestyle/science/china-launches-crewed-spacecraft-chinese-space-station-state-television-2022-11-29/\"))"
   ]
  },
  {
   "cell_type": "code",
   "execution_count": null,
   "id": "2e47f787",
   "metadata": {},
   "outputs": [
    {
     "name": "stderr",
     "output_type": "stream",
     "text": [
      " * Running on http://localhost:8080/ (Press CTRL+C to quit)\n",
      "127.0.0.1 - - [01/Dec/2022 19:09:26] \"\u001b[37mGET / HTTP/1.1\u001b[0m\" 200 -\n",
      "127.0.0.1 - - [01/Dec/2022 19:09:33] \"\u001b[32mPOST / HTTP/1.1\u001b[0m\" 302 -\n",
      "127.0.0.1 - - [01/Dec/2022 19:09:33] \"\u001b[37mGET /output/%20%20WELLINGTON%2C%20New%20Zealand%20%28AP%29%20—%20A%20woman%20who%20was%20extradited%20from%20South%20Korea%20this%20week%20after%20the%20bodies%20of%20her%20two%20children%20were%20found%20in%20abandoned%20suitcases%20made%20her%20first%20court%20appearance%20in%20New%20Zealand%20on%20Wednesday.%20The%20judge%20allowed%20it%20to%20be%20reported%20that%20the%20suspect%20was%20the%20children’s%20mother%2C%20according%20to%20The%20New%20Zealand%20Herald.%20According%20to%20the%20Herald%2C%20the%20woman%2C%20through%20an%20interpreter%2C%20asked%20the%20judge%20if%20she%20could%20speak%20with%20him%2C%20before%20the%20woman’s%20lawyer%20stepped%20in%20to%20say%20it%20would%20be%20better%20if%20she%20didn’t%2C%20with%20which%20the%20judge%20agreed.%20The%20case%20horrified%20many%20people%20in%20New%20Zealand%20after%20the%20children’s%20bodies%20were%20discovered%20in%20August%20when%20an%20Auckland%20family%20bought%20abandoned%20goods%2C%20including%20two%20suitcases%2C%20from%20a%20storage%20unit%20in%20an%20online%20auction.%20The%20children%20were%20between%205%20and%2010%20years%20old%2C%20had%20been%20dead%20for%20years%2C%20and%20the%20suitcases%20had%20been%20in%20storage%20in%20Auckland%20for%20at%20least%20three%20or%20four%20years%2C%20according%20to%20New%20Zealand%20police.%20South%20Korean%20police%20say%20the%20woman%20was%20born%20in%20South%20Korea%20and%20later%20moved%20to%20New%20Zealand%2C%20where%20she%20gained%20citizenship.%20The%20woman%20was%20handed%20over%20to%20three%20New%20Zealand%20police%20officers%20Monday%20evening%20at%20the%20Incheon%20International%20Airport%20near%20Seoul.%20South%20Korea’s%20Justice%20Ministry%20said%20it%20also%20provided%20New%20Zealand%20with%20unspecified%20“important%20evidence”%20in%20the%20case.%20“With%20the%20extradition%2C%20we%20hope%20that%20the%20truth%20of%20the%20case%2C%20which%20has%20garnered%20worldwide%20attention%2C%20will%20be%20revealed%20through%20the%20fair%20and%20strict%20judicial%20process%20of%20New%20Zealand%2C”%20the%20ministry%20said%20in%20a%20statement.%20South%20Korean%20police%20had%20said%20it%20was%20suspected%20the%20woman%20could%20be%20the%20mother%20of%20the%20two%20victims%2C%20as%20her%20past%20address%20in%20New%20Zealand%20was%20registered%20to%20the%20storage%20unit%20where%20the%20suitcases%20were%20kept.%20New%20Zealand%20authorities%20said%20the%20family%20that%20ended%20up%20purchasing%20the%20suitcases%20and%20other%20abandoned%20storage%20items%20had%20nothing%20to%20do%20with%20the%20case./%2Cwoman%2CNew%2CZealand/4/url5%2Cwoman%2Ctest%2Cbye%2C%7C HTTP/1.1\u001b[0m\" 200 -\n"
     ]
    },
    {
     "name": "stdout",
     "output_type": "stream",
     "text": [
      "['woman', 'New', 'Zealand']\n",
      "exists\n",
      "[('url1', ',hi,hello,hey'), ('url2', ',hi,heyo,hello'), ('url3', ',hi,hey,hello'), ('url4', ',hi,test,bye'), ('url5', ',woman,test,bye')]\n"
     ]
    }
   ],
   "source": [
    "from werkzeug.wrappers import Request, Response\n",
    "from flask import Flask, render_template, request, url_for, flash, redirect\n",
    "from ipynb.fs.full.Algorithm2 import create_frequency_table, create_weighted_table, cutParagraph, clean_sentences, one_sentence_summary, summarize, keyWords\n",
    "from ipynb.fs.full.database import insert, findMatches\n",
    "\n",
    "\n",
    "app = Flask(__name__)\n",
    "app.config['SECRET_KEY'] = 'superdupersecretkeythatnobodywouldeverguess'\n",
    "\n",
    "\n",
    "@app.route(\"/\", methods=('GET', 'POST'))\n",
    "\n",
    "\n",
    "def index():\n",
    "    if request.method == 'POST':\n",
    "        url = str(request.form['text'])\n",
    "        url = url.strip()\n",
    "        text = \"\"\n",
    "        if True:\n",
    "            text = scrape(url)\n",
    "        textdegree = int(request.form['degreeText'])\n",
    "        searchdegree = int(request.form['degreeSearch'])\n",
    "        temp = \"\"\n",
    "        keywords = keyWords(text)\n",
    "        print(keywords)\n",
    "        for word in keywords:\n",
    "            temp = temp + \",\" + word\n",
    "#         outputlist = [text, temp]\n",
    "        outputlist = [url, temp]\n",
    "        insert(outputlist)\n",
    "        summary = summarize(text, textdegree)\n",
    "        matching = findMatches2(keywords, int(searchdegree), url)\n",
    "#         print(type(keywords))\n",
    "#         for i in keywords:\n",
    "#             print(i)\n",
    "#             print(type(i))\n",
    "        tmatch = \"\"\n",
    "        for match in matching:\n",
    "            for i in match:\n",
    "                tmatch = tmatch + i + \",\"\n",
    "            tmatch = tmatch + \"|\"\n",
    "#         print(summary)\n",
    "#         trying = \"_|\"\n",
    "#         trying = trying + url + \"|_\"\n",
    "#         trying = trying[::-1]\n",
    "        return redirect(url_for('output', textsum = summary, keywds = temp, deg = str(textdegree), match=tmatch))\n",
    "        \n",
    "    return render_template('index.html')\n",
    "\n",
    "\n",
    "@app.route(\"/output/<textsum>/<keywds>/<deg>/<match>\")\n",
    "def output(textsum, keywds, deg, match):\n",
    "    keywds = keywds.split(\",\")\n",
    "    keywds.pop(0)\n",
    "#     print(\"----\")\n",
    "#     print(matching)\n",
    "#     print(keywds)\n",
    "#     print(deg)\n",
    "    match = match.split(\"|\")\n",
    "    match.pop()\n",
    "    mkw = []\n",
    "    for i in match:\n",
    "        t = i.split(\",\")\n",
    "        t.pop()\n",
    "        mkw.append(t)\n",
    "    #call method, return list\n",
    "    #return_list = []\n",
    "    #return_list.append(name);\n",
    "#     print(\"------\")\n",
    "#     print(textsum)\n",
    "#     print(\"\")\n",
    "#     print(keywds)\n",
    "#     print(\"\")\n",
    "#     print(deg)\n",
    "#     print(\"\")\n",
    "#     print(mkw)\n",
    "#     print(\"------\")\n",
    "#     uri = uri[2:]\n",
    "    return render_template('output.html', outputstr = textsum, outputkey = keywds, outputdeg = deg, output_list = mkw)\n",
    "\n",
    "\n",
    "if __name__ == '__main__':\n",
    "    from werkzeug.serving import run_simple\n",
    "    run_simple('localhost', 8080, app)\n"
   ]
  },
  {
   "cell_type": "code",
   "execution_count": null,
   "id": "612471ac",
   "metadata": {},
   "outputs": [],
   "source": [
    "conn.commit()\n",
    "conn.close()"
   ]
  },
  {
   "cell_type": "code",
   "execution_count": 58,
   "id": "89101be6",
   "metadata": {},
   "outputs": [],
   "source": [
    "def findMatches2(inputKeys, degreesOfSimilarity, url):\n",
    "    searchList = []\n",
    "    conn = sql.connect(\"data.db\")\n",
    "    cur = conn.cursor()\n",
    "    u = [url]\n",
    "    cur.execute(\"select * from datatable where not text = ?\", u)\n",
    "    x = cur.fetchall()\n",
    "    print(x)\n",
    "    urls = []\n",
    "    kwds = []\n",
    "    for i in x:\n",
    "        urls.append(i[0])\n",
    "        kwds.append(i[1:])\n",
    "    i = 0\n",
    "    for row in kwds:\n",
    "        keyWordList = row[0].split(\",\")\n",
    "        if hasCommonElements(keyWordList, inputKeys, degreesOfSimilarity) == True:\n",
    "            keyWordList[0] = urls[i]\n",
    "            searchList.append(keyWordList)\n",
    "        i = i + 1\n",
    "    conn.commit()\n",
    "    conn.close()\n",
    "    return searchList"
   ]
  },
  {
   "cell_type": "code",
   "execution_count": 59,
   "id": "0981c144",
   "metadata": {},
   "outputs": [
    {
     "data": {
      "text/plain": [
       "[('url1', ',hi,hello,hey'),\n",
       " ('url2', ',hi,heyo,hello'),\n",
       " ('url3', ',hi,hey,hello'),\n",
       " ('url4', ',hi,test,bye'),\n",
       " ('url5', ',woman,test,bye'),\n",
       " ('https://apnews.com/article/new-zealand-seoul-south-korea-extradition-585dccdb5e71924ac60e2f24102c74df',\n",
       "  ',woman,New,Zealand')]"
      ]
     },
     "execution_count": 59,
     "metadata": {},
     "output_type": "execute_result"
    }
   ],
   "source": [
    "cur.execute(\"select * from datatable\")\n",
    "cur.fetchall()"
   ]
  },
  {
   "cell_type": "code",
   "execution_count": 60,
   "id": "3f1ce0d2",
   "metadata": {},
   "outputs": [],
   "source": [
    "def hasCommonElements(list1, list2, num):\n",
    "    count = 0\n",
    "    for l1 in list1:\n",
    "        for l2 in list2:\n",
    "            if (l1 == l2):\n",
    "                count = count + 1;\n",
    "    if (count >= num):\n",
    "        return True\n",
    "    return False        "
   ]
  },
  {
   "cell_type": "code",
   "execution_count": null,
   "id": "421c5d4d",
   "metadata": {},
   "outputs": [],
   "source": []
  }
 ],
 "metadata": {
  "kernelspec": {
   "display_name": "Python 3",
   "language": "python",
   "name": "python3"
  },
  "language_info": {
   "codemirror_mode": {
    "name": "ipython",
    "version": 3
   },
   "file_extension": ".py",
   "mimetype": "text/x-python",
   "name": "python",
   "nbconvert_exporter": "python",
   "pygments_lexer": "ipython3",
   "version": "3.8.8"
  }
 },
 "nbformat": 4,
 "nbformat_minor": 5
}
