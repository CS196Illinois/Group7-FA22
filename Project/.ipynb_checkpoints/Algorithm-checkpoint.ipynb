{
 "cells": [
  {
   "cell_type": "code",
   "execution_count": null,
   "id": "1a015e47",
   "metadata": {},
   "outputs": [],
   "source": [
    "# Two approaches: extraction and abstraction\n",
    "# Because abstraction is more complex, try to build extraction algorithm first\n",
    "# I installed Natural Language Toolkit (NLTK) for this"
   ]
  }
 ],
 "metadata": {
  "kernelspec": {
   "display_name": "Python 3 (ipykernel)",
   "language": "python",
   "name": "python3"
  },
  "language_info": {
   "codemirror_mode": {
    "name": "ipython",
    "version": 3
   },
   "file_extension": ".py",
   "mimetype": "text/x-python",
   "name": "python",
   "nbconvert_exporter": "python",
   "pygments_lexer": "ipython3",
   "version": "3.10.8"
  }
 },
 "nbformat": 4,
 "nbformat_minor": 5
}
