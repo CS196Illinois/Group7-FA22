{
 "cells": [
  {
   "cell_type": "code",
   "execution_count": 1,
   "id": "9dcb30e6",
   "metadata": {},
   "outputs": [],
   "source": [
    "import sqlite3 as sql"
   ]
  },
  {
   "cell_type": "code",
   "execution_count": 2,
   "id": "6702f9b7",
   "metadata": {},
   "outputs": [],
   "source": [
    "conn = sql.connect(\"data.db\")\n",
    "cur = conn.cursor()"
   ]
  },
  {
   "cell_type": "code",
   "execution_count": 3,
   "id": "faf2e6aa",
   "metadata": {},
   "outputs": [
    {
     "data": {
      "text/plain": [
       "[('datatable',)]"
      ]
     },
     "execution_count": 3,
     "metadata": {},
     "output_type": "execute_result"
    }
   ],
   "source": [
    "cur.execute(\"SELECT name FROM sqlite_schema WHERE type ='table' AND name NOT LIKE 'sqlite_%';\")\n",
    "cur.fetchall()"
   ]
  },
  {
   "cell_type": "code",
   "execution_count": null,
   "id": "2e47f787",
   "metadata": {},
   "outputs": [
    {
     "name": "stderr",
     "output_type": "stream",
     "text": [
      "[nltk_data] Downloading package punkt to\n",
      "[nltk_data]     C:\\Users\\jrh25\\AppData\\Roaming\\nltk_data...\n",
      "[nltk_data]   Package punkt is already up-to-date!\n",
      "[nltk_data] Downloading package stopwords to\n",
      "[nltk_data]     C:\\Users\\jrh25\\AppData\\Roaming\\nltk_data...\n",
      "[nltk_data]   Package stopwords is already up-to-date!\n",
      "WARNING: This is a development server. Do not use it in a production deployment. Use a production WSGI server instead.\n",
      " * Running on http://localhost:8080\n",
      "Press CTRL+C to quit\n"
     ]
    },
    {
     "name": "stdout",
     "output_type": "stream",
     "text": [
      ",seashells,sells,seashel\n",
      "['', 'seashells', 'sells', 'seashel']\n",
      "['b']\n",
      "['', 'was', \"n't\", 'wa']\n",
      "['', 'was', 'tree', 'wa']\n",
      "['', 'was', 'picket', 'wa']\n",
      "['', 'was', 'would', 'wa']\n",
      "['', 'was', \"n't\", 'wa']\n",
      "['', 'was', \"n't\", 'wa']\n",
      "['', 'was', 'sandcastle', 'wa']\n",
      "['', 'could', 'person', 'way']\n",
      "exists\n",
      "[['', 'was', \"n't\", 'wa'], ['', 'was', \"n't\", 'wa'], ['', 'was', \"n't\", 'wa']]\n"
     ]
    },
    {
     "name": "stderr",
     "output_type": "stream",
     "text": [
      "127.0.0.1 - - [31/Oct/2022 13:55:34] \"GET / HTTP/1.1\" 200 -\n",
      "127.0.0.1 - - [31/Oct/2022 13:55:38] \"POST / HTTP/1.1\" 302 -\n",
      "127.0.0.1 - - [31/Oct/2022 13:55:38] \"GET /output/%20When%20the%20day%20began%20she%20thought%20it%20was%20going%20to%20be%20a%20bad%20one,%20but%20as%20she%20sat%20recalling%20the%20day's%20events%20to%20write%20them%20down,%20she%20had%20to%20admit,%20it%20had%20been%20a%20rather%20marvelous%20day.%20It%20was%20a%20concerning%20development%20that%20he%20couldn't%20get%20out%20of%20his%20mind.%20He'd%20had%20many%20friends%20throughout%20his%20early%20years%20and%20had%20fond%20memories%20of%20playing%20with%20them,%20but%20he%20couldn't%20understand%20how%20it%20had%20all%20stopped.%20There%20was%20some%20point%20as%20he%20grew%20up%20that%20he%20played%20with%20each%20of%20his%20friends%20for%20the%20very%20last%20time,%20and%20he%20had%20no%20idea%20that%20it%20would%20be%20the%20last.%20While%20everyone%20else%20is%20searching%20for%20what%20they%20can%20sell,%20I%20sit%20in%20front%20of%20my%20computer%20and%20buy%20better%20stuff%20for%20less%20money%20and%20spend%20a%20fraction%20of%20the%20time%20doing%20it.,was,n't,wa5%5B%5B'',%20'was',%20%22n't%22,%20'wa'%5D,%20%5B'',%20'was',%20%22n't%22,%20'wa'%5D,%20%5B'',%20'was',%20%22n't%22,%20'wa'%5D%5D HTTP/1.1\" 200 -\n"
     ]
    },
    {
     "name": "stdout",
     "output_type": "stream",
     "text": [
      "exists\n"
     ]
    }
   ],
   "source": [
    "from werkzeug.wrappers import Request, Response\n",
    "from flask import Flask, render_template, request, url_for, flash, redirect\n",
    "from ipynb.fs.full.Algorithm2 import create_frequency_table, create_weighted_table, cutParagraph, clean_sentences, one_sentence_summary, summarize, keyWords\n",
    "from ipynb.fs.full.database import insert, findMatches\n",
    "\n",
    "\n",
    "app = Flask(__name__)\n",
    "app.config['SECRET_KEY'] = 'superdupersecretkeythatnobodywouldeverguess'\n",
    "\n",
    "\n",
    "@app.route(\"/\", methods=('GET', 'POST'))\n",
    "\n",
    "\n",
    "def index():\n",
    "    if request.method == 'POST':\n",
    "        text = str(request.form['text'])\n",
    "        textdegree = int(request.form['degreeText'])\n",
    "        searchdegree = int(request.form['degreeSearch'])\n",
    "        #keywords = \"gucci,gang,prada,ysl\"\n",
    "        temp = \"\"\n",
    "        temp1 = keyWords(text)\n",
    "        for word in temp1:\n",
    "            temp = temp + \",\" + word\n",
    "        keywords = temp\n",
    "        outputlist = [text, keywords]\n",
    "        insert(outputlist)\n",
    "        summary = summarize(text, textdegree)\n",
    "        \n",
    "        matching = findMatches(keywords.split(\",\"), int(searchdegree))\n",
    "        return redirect(url_for('output', textsum = summary, keywds = keywords, deg = str(textdegree), matchingkeywords = matching))\n",
    "        \n",
    "    return render_template('index.html')\n",
    "\n",
    "\n",
    "@app.route(\"/output/<textsum><keywds><deg><matchingkeywords>\")\n",
    "def output(textsum, keywds, deg, matchingkeywords):\n",
    "    #call method, return list\n",
    "    #return_list = []\n",
    "    #return_list.append(name);\n",
    "    return render_template('output.html', outputstr = textsum, outputkey = keywds, outputdeg = deg, outputsearchlist = matchingkeywords)\n",
    "\n",
    "\n",
    "if __name__ == '__main__':\n",
    "    from werkzeug.serving import run_simple\n",
    "    run_simple('localhost', 8080, app)\n"
   ]
  },
  {
   "cell_type": "code",
   "execution_count": null,
   "id": "612471ac",
   "metadata": {},
   "outputs": [],
   "source": [
    "conn.commit()\n",
    "conn.close()"
   ]
  },
  {
   "cell_type": "code",
   "execution_count": null,
   "id": "89101be6",
   "metadata": {},
   "outputs": [],
   "source": []
  }
 ],
 "metadata": {
  "kernelspec": {
   "display_name": "Python 3 (ipykernel)",
   "language": "python",
   "name": "python3"
  },
  "language_info": {
   "codemirror_mode": {
    "name": "ipython",
    "version": 3
   },
   "file_extension": ".py",
   "mimetype": "text/x-python",
   "name": "python",
   "nbconvert_exporter": "python",
   "pygments_lexer": "ipython3",
   "version": "3.10.8"
  }
 },
 "nbformat": 4,
 "nbformat_minor": 5
}
