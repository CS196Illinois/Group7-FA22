{
 "cells": [
  {
   "cell_type": "code",
   "execution_count": 1,
   "id": "9dcb30e6",
   "metadata": {},
   "outputs": [],
   "source": [
    "import sqlite3 as sql"
   ]
  },
  {
   "cell_type": "code",
   "execution_count": 2,
   "id": "6702f9b7",
   "metadata": {},
   "outputs": [],
   "source": [
    "conn = sql.connect(\"\")\n",
    "cur = conn.cursor()"
   ]
  },
  {
   "cell_type": "code",
   "execution_count": 3,
   "id": "faf2e6aa",
   "metadata": {},
   "outputs": [],
   "source": [
    "cur.execute(\"SELECT name FROM sqlite_schema WHERE type ='table' AND name NOT LIKE 'sqlite_%';\")\n",
    "string = cur.fetchall()"
   ]
  },
  {
   "cell_type": "code",
   "execution_count": 4,
   "id": "914012b5",
   "metadata": {},
   "outputs": [
    {
     "ename": "IndexError",
     "evalue": "list index out of range",
     "output_type": "error",
     "traceback": [
      "\u001b[1;31m---------------------------------------------------------------------------\u001b[0m",
      "\u001b[1;31mIndexError\u001b[0m                                Traceback (most recent call last)",
      "Cell \u001b[1;32mIn [4], line 1\u001b[0m\n\u001b[1;32m----> 1\u001b[0m name \u001b[38;5;241m=\u001b[39m \u001b[43mstring\u001b[49m\u001b[43m[\u001b[49m\u001b[38;5;241;43m0\u001b[39;49m\u001b[43m]\u001b[49m[\u001b[38;5;241m0\u001b[39m]\n",
      "\u001b[1;31mIndexError\u001b[0m: list index out of range"
     ]
    }
   ],
   "source": [
    "name = string[0][0]"
   ]
  },
  {
   "cell_type": "code",
   "execution_count": null,
   "id": "2e47f787",
   "metadata": {},
   "outputs": [
    {
     "name": "stderr",
     "output_type": "stream",
     "text": [
      "[nltk_data] Downloading package punkt to\n",
      "[nltk_data]     C:\\Users\\jrh25\\AppData\\Roaming\\nltk_data...\n",
      "[nltk_data]   Package punkt is already up-to-date!\n",
      "[nltk_data] Downloading package stopwords to\n",
      "[nltk_data]     C:\\Users\\jrh25\\AppData\\Roaming\\nltk_data...\n",
      "[nltk_data]   Package stopwords is already up-to-date!\n",
      "WARNING: This is a development server. Do not use it in a production deployment. Use a production WSGI server instead.\n",
      " * Running on http://localhost:8080\n",
      "Press CTRL+C to quit\n"
     ]
    },
    {
     "name": "stdout",
     "output_type": "stream",
     "text": [
      "exists\n"
     ]
    },
    {
     "name": "stderr",
     "output_type": "stream",
     "text": [
      "127.0.0.1 - - [26/Oct/2022 02:57:24] \"GET / HTTP/1.1\" 200 -\n",
      "127.0.0.1 - - [26/Oct/2022 02:57:49] \"POST / HTTP/1.1\" 302 -\n",
      "127.0.0.1 - - [26/Oct/2022 02:57:51] \"POST / HTTP/1.1\" 302 -\n",
      "127.0.0.1 - - [26/Oct/2022 02:57:51] \"GET /output/%20The%20reality%20was%20that%20it%20was%20time%20to%20panic%20and%20there%20wasn't%20time%20to%20salvage%20the%20situation,%20but%20he%20continued%20to%20delude%20himself%20into%20believing%20there%20was.%20Daisy%20truly%20believed%20this%20to%20be%20the%20way%20the%20world%20worked,%20but%20she%20didn't%20understand%20that%20she%20was%20merely%20a%20robot%20that%20had%20been%20programmed%20to%20believe%20this. HTTP/1.1\" 200 -\n"
     ]
    },
    {
     "name": "stdout",
     "output_type": "stream",
     "text": [
      "exists\n"
     ]
    },
    {
     "name": "stderr",
     "output_type": "stream",
     "text": [
      "127.0.0.1 - - [26/Oct/2022 02:57:55] \"GET / HTTP/1.1\" 200 -\n",
      "127.0.0.1 - - [26/Oct/2022 02:58:00] \"POST / HTTP/1.1\" 302 -\n",
      "127.0.0.1 - - [26/Oct/2022 02:58:00] \"GET /output/%20He%20had%20dreamed%20of%20owning%20this%20car%20since%20he%20was%20ten,%20and%20that%20dream%20had%20become%20a%20reality%20less%20than%20a%20year%20ago.%20They%20were%20barely%20in%20time%20to%20see%20the%20huge%20gray%20form%20of%20the%20carnivore%20before%20it%20vanished%20behind%20a%20sign%20atop%20a%20nearby%20building%20which%20bore%20the%20mystifying%20information%20%22Pepsi-Cola.%22%20It%20wasn't%20quite%20yet%20time%20to%20panic.%20The%20reality%20was%20that%20it%20was%20time%20to%20panic%20and%20there%20wasn't%20time%20to%20salvage%20the%20situation,%20but%20he%20continued%20to%20delude%20himself%20into%20believing%20there%20was.%20For%20a%20brief%20moment,%20she%20thought%20it%20might%20be%20a%20message%20for%20her%20to%20follow%20her%20dreams,%20but%20ultimately%20decided%20it%20was%20easier%20to%20ignore%20it%20as%20she%20crumpled%20it%20up%20and%20threw%20it%20away.%20%22Sir,%20you%20will%20undoubtedly%20end%20up%20in%20a%20drunkard's%20grave,%20dead%20of%20hepatic%20cirrhosis,%22%20it%20informed%20me%20virtuously%20as%20it%20returned%20my%20ID%20card.%20He%20didn't%20particularly%20like%20his%20drinks%20cold,%20but%20he%20knew%20that%20the%20drama%20of%20chiseling%20the%20ice%20and%20then%20pouring%20a%20drink%20over%20it%20looked%20far%20more%20impressive%20than%20how%20he%20actually%20liked%20it.%20It%20was%20slightly%20ajar%20and%20she%20knew%20this%20meant%20something%20terrible.%20%22It%20doesn't%20take%20much%20to%20touch%20someone's%20heart,%22%20Daisy%20said%20with%20a%20smile%20on%20her%20face.%20%22It's%20often%20just%20the%20little%20things%20you%20do%20that%20can%20change%20a%20person's%20day%20for%20the%20better.%22%20Daisy%20truly%20believed%20this%20to%20be%20the%20way%20the%20world%20worked,%20but%20she%20didn't%20understand%20that%20she%20was%20merely%20a%20robot%20that%20had%20been%20programmed%20to%20believe%20this. HTTP/1.1\" 200 -\n"
     ]
    },
    {
     "name": "stdout",
     "output_type": "stream",
     "text": [
      "exists\n"
     ]
    },
    {
     "name": "stderr",
     "output_type": "stream",
     "text": [
      "127.0.0.1 - - [26/Oct/2022 02:58:02] \"GET / HTTP/1.1\" 200 -\n",
      "127.0.0.1 - - [26/Oct/2022 02:58:08] \"POST / HTTP/1.1\" 302 -\n",
      "127.0.0.1 - - [26/Oct/2022 02:58:08] \"GET /output/%20The%20reality%20was%20that%20it%20was%20time%20to%20panic%20and%20there%20wasn't%20time%20to%20salvage%20the%20situation,%20but%20he%20continued%20to%20delude%20himself%20into%20believing%20there%20was. HTTP/1.1\" 200 -\n"
     ]
    },
    {
     "name": "stdout",
     "output_type": "stream",
     "text": [
      "exists\n"
     ]
    },
    {
     "name": "stderr",
     "output_type": "stream",
     "text": [
      "127.0.0.1 - - [26/Oct/2022 02:58:10] \"GET / HTTP/1.1\" 200 -\n"
     ]
    }
   ],
   "source": [
    "from werkzeug.wrappers import Request, Response\n",
    "from flask import Flask, render_template, request, url_for, flash, redirect\n",
    "from ipynb.fs.full.Algorithm2 import create_frequency_table, create_weighted_table, cutParagraph, clean_sentences, one_sentence_summary, summarize, keyWords\n",
    "from ipynb.fs.full.database import insert\n",
    "\n",
    "\n",
    "app = Flask(__name__)\n",
    "app.config['SECRET_KEY'] = 'superdupersecretkeythatnobodywouldeverguess'\n",
    "\n",
    "\n",
    "@app.route(\"/\", methods=('GET', 'POST'))\n",
    "\n",
    "\n",
    "def index():\n",
    "    if request.method == 'POST':\n",
    "        text = str(request.form['text'])\n",
    "        degree = int(request.form['degree'])\n",
    "        #keywords = \"gucci,gang,prada,ysl\"\n",
    "        temp = \"\"\n",
    "        temp1 = keyWords(text)\n",
    "        for word in temp1:\n",
    "            temp = temp + \",\" + word\n",
    "        keywords = temp\n",
    "        outputlist = [text, keywords]\n",
    "        insert(outputlist)\n",
    "        summary = summarize(text, degree)\n",
    "        return redirect(url_for('output', name = summary))\n",
    "        \n",
    "    return render_template('index.html')\n",
    "\n",
    "\n",
    "@app.route(\"/output/<name>\")\n",
    "def output(name):\n",
    "    #call method, return list\n",
    "    #return_list = []\n",
    "    #return_list.append(name);\n",
    "    return render_template('output.html', outputstr = name)\n",
    "\n",
    "\n",
    "if __name__ == '__main__':\n",
    "    from werkzeug.serving import run_simple\n",
    "    run_simple('localhost', 8080, app)\n"
   ]
  },
  {
   "cell_type": "code",
   "execution_count": null,
   "id": "612471ac",
   "metadata": {},
   "outputs": [],
   "source": [
    "conn.commit()\n",
    "conn.close()"
   ]
  }
 ],
 "metadata": {
  "kernelspec": {
   "display_name": "Python 3 (ipykernel)",
   "language": "python",
   "name": "python3"
  },
  "language_info": {
   "codemirror_mode": {
    "name": "ipython",
    "version": 3
   },
   "file_extension": ".py",
   "mimetype": "text/x-python",
   "name": "python",
   "nbconvert_exporter": "python",
   "pygments_lexer": "ipython3",
   "version": "3.10.8"
  }
 },
 "nbformat": 4,
 "nbformat_minor": 5
}
