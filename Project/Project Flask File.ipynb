{
 "cells": [
  {
   "cell_type": "code",
   "execution_count": 1,
   "id": "9dcb30e6",
   "metadata": {},
   "outputs": [],
   "source": [
    "import sqlite3 as sql"
   ]
  },
  {
   "cell_type": "code",
   "execution_count": 2,
   "id": "6702f9b7",
   "metadata": {},
   "outputs": [],
   "source": [
    "conn = sql.connect(\"data.db\")\n",
    "cur = conn.cursor()"
   ]
  },
  {
   "cell_type": "code",
   "execution_count": 3,
   "id": "faf2e6aa",
   "metadata": {},
   "outputs": [
    {
     "data": {
      "text/plain": [
       "[('datatable',)]"
      ]
     },
     "execution_count": 3,
     "metadata": {},
     "output_type": "execute_result"
    }
   ],
   "source": [
    "cur.execute(\"SELECT name FROM sqlite_schema WHERE type ='table' AND name NOT LIKE 'sqlite_%';\")\n",
    "cur.fetchall()"
   ]
  },
  {
   "cell_type": "code",
   "execution_count": 4,
   "id": "914012b5",
   "metadata": {},
   "outputs": [
    {
     "ename": "NameError",
     "evalue": "name 'string' is not defined",
     "output_type": "error",
     "traceback": [
      "\u001b[1;31m---------------------------------------------------------------------------\u001b[0m",
      "\u001b[1;31mNameError\u001b[0m                                 Traceback (most recent call last)",
      "Cell \u001b[1;32mIn [4], line 1\u001b[0m\n\u001b[1;32m----> 1\u001b[0m name \u001b[38;5;241m=\u001b[39m \u001b[43mstring\u001b[49m[\u001b[38;5;241m0\u001b[39m][\u001b[38;5;241m0\u001b[39m]\n",
      "\u001b[1;31mNameError\u001b[0m: name 'string' is not defined"
     ]
    }
   ],
   "source": [
    "name = string[0][0]"
   ]
  },
  {
   "cell_type": "code",
   "execution_count": null,
   "id": "2e47f787",
   "metadata": {},
   "outputs": [
    {
     "name": "stderr",
     "output_type": "stream",
     "text": [
      "[nltk_data] Downloading package punkt to\n",
      "[nltk_data]     C:\\Users\\jrh25\\AppData\\Roaming\\nltk_data...\n",
      "[nltk_data]   Package punkt is already up-to-date!\n",
      "[nltk_data] Downloading package stopwords to\n",
      "[nltk_data]     C:\\Users\\jrh25\\AppData\\Roaming\\nltk_data...\n",
      "[nltk_data]   Package stopwords is already up-to-date!\n",
      "WARNING: This is a development server. Do not use it in a production deployment. Use a production WSGI server instead.\n",
      " * Running on http://localhost:8080\n",
      "Press CTRL+C to quit\n"
     ]
    },
    {
     "name": "stdout",
     "output_type": "stream",
     "text": [
      "exists\n"
     ]
    },
    {
     "name": "stderr",
     "output_type": "stream",
     "text": [
      "127.0.0.1 - - [27/Oct/2022 01:07:45] \"GET / HTTP/1.1\" 200 -\n",
      "127.0.0.1 - - [27/Oct/2022 01:07:53] \"POST / HTTP/1.1\" 302 -\n",
      "127.0.0.1 - - [27/Oct/2022 01:07:53] \"GET /output/%20When%20you%20are%20a%20child%20an%20hour%20is%20a%20long%20time%20to%20wait%20but%20a%20very%20short%20time%20when%20that’s%20all%20the%20time%20you%20are%20allowed%20on%20your%20iPad.%20It%20was%20difficult%20to%20tell%20from%20the%20ground,%20but%20Rachael%20could%20see%20movement.%20She%20had%20thought%20this%20was%20simply%20bitter%20talk%20on%20their%20part%20since%20they%20had%20been%20unable%20to%20find%20true%20love%20like%20hers.%20She%20could%20hear%20her%20mom%20yelling%20in%20the%20background,%20but%20couldn't%20make%20out%20exactly%20what%20the%20yelling%20was%20about.%20She%20knew%20her%20mom%20would%20enter%20her%20room%20at%20any%20minute,%20and%20she%20could%20pretend%20that%20she%20hadn't%20heard%20any%20of%20the%20previous%20yelling.%20Her%20hair%20was%20a%20tangled%20mess%20which%20she%20tried%20to%20make%20presentable%20by%20putting%20in%20a%20lump%20on%20the%20top%20of%20her%20head.%20It%20didn't%20really%20work%20although%20it%20was%20a%20valiant%20attempt.%20While%20most%20people%20simply%20noticed%20the%20tangled%20mess%20on%20top%20of%20her%20head,%20what%20most%20people%20failed%20to%20understand%20that%20within%20the%20tangles%20mess%20was%20an%20entirely%20new%20year.%20The%20problem%20was%20that%20she%20had%20never%20considered%20all%20the%20downsides%20to%20actually%20being%20famous.%20Had%20she%20taken%20the%20time%20to%20objectively%20consider%20these%20downsides,%20she%20would%20have%20never%20agreed%20to%20publically%20sing%20that%20first%20song.%20There%20was%20something%20beautiful%20in%20his%20hate.%20It%20wasn't%20the%20hate%20itself%20as%20it%20was%20a%20disgusting%20display%20of%20racism%20and%20intolerance.%20It%20was%20what%20propelled%20the%20hate%20and%20the%20fact%20that%20although%20he%20had%20this%20hate,%20he%20didn't%20understand%20where%20it%20came%20from.%20It%20was%20at%20that%20moment%20that%20she%20realized%20that%20there%20was%20hope%20in%20changing%20him.%20If%20he%20could%20take%20ten%20more%20steps%20it%20would%20be%20over,%20but%20his%20legs%20wouldn't%20move.%20He%20tried%20to%20will%20them%20to%20work,%20but%20they%20wouldn't%20listen%20to%20his%20brain.%20Ten%20more%20steps%20and%20it%20would%20be%20over%20but%20it%20didn't%20appear%20he%20would%20be%20able%20to%20do%20it.,was,Time,wa5 HTTP/1.1\" 200 -\n"
     ]
    },
    {
     "name": "stdout",
     "output_type": "stream",
     "text": [
      "exists\n"
     ]
    },
    {
     "name": "stderr",
     "output_type": "stream",
     "text": [
      "127.0.0.1 - - [27/Oct/2022 01:12:36] \"GET / HTTP/1.1\" 200 -\n",
      "127.0.0.1 - - [27/Oct/2022 01:12:49] \"POST / HTTP/1.1\" 302 -\n"
     ]
    },
    {
     "name": "stdout",
     "output_type": "stream",
     "text": [
      "exists\n"
     ]
    },
    {
     "name": "stderr",
     "output_type": "stream",
     "text": [
      "127.0.0.1 - - [27/Oct/2022 01:12:51] \"POST / HTTP/1.1\" 302 -\n",
      "127.0.0.1 - - [27/Oct/2022 01:12:51] \"GET /output/%20When%20you%20are%20a%20child%20an%20hour%20is%20a%20long%20time%20to%20wait%20but%20a%20very%20short%20time%20when%20that’s%20all%20the%20time%20you%20are%20allowed%20on%20your%20iPad.%20It%20was%20difficult%20to%20tell%20from%20the%20ground,%20but%20Rachael%20could%20see%20movement.%20She%20had%20thought%20this%20was%20simply%20bitter%20talk%20on%20their%20part%20since%20they%20had%20been%20unable%20to%20find%20true%20love%20like%20hers.%20She%20could%20hear%20her%20mom%20yelling%20in%20the%20background,%20but%20couldn't%20make%20out%20exactly%20what%20the%20yelling%20was%20about.%20She%20knew%20her%20mom%20would%20enter%20her%20room%20at%20any%20minute,%20and%20she%20could%20pretend%20that%20she%20hadn't%20heard%20any%20of%20the%20previous%20yelling.%20Her%20hair%20was%20a%20tangled%20mess%20which%20she%20tried%20to%20make%20presentable%20by%20putting%20in%20a%20lump%20on%20the%20top%20of%20her%20head.%20It%20didn't%20really%20work%20although%20it%20was%20a%20valiant%20attempt.%20While%20most%20people%20simply%20noticed%20the%20tangled%20mess%20on%20top%20of%20her%20head,%20what%20most%20people%20failed%20to%20understand%20that%20within%20the%20tangles%20mess%20was%20an%20entirely%20new%20year.%20The%20problem%20was%20that%20she%20had%20never%20considered%20all%20the%20downsides%20to%20actually%20being%20famous.%20Had%20she%20taken%20the%20time%20to%20objectively%20consider%20these%20downsides,%20she%20would%20have%20never%20agreed%20to%20publically%20sing%20that%20first%20song.%20There%20was%20something%20beautiful%20in%20his%20hate.%20It%20wasn't%20the%20hate%20itself%20as%20it%20was%20a%20disgusting%20display%20of%20racism%20and%20intolerance.%20It%20was%20what%20propelled%20the%20hate%20and%20the%20fact%20that%20although%20he%20had%20this%20hate,%20he%20didn't%20understand%20where%20it%20came%20from.%20It%20was%20at%20that%20moment%20that%20she%20realized%20that%20there%20was%20hope%20in%20changing%20him.%20If%20he%20could%20take%20ten%20more%20steps%20it%20would%20be%20over,%20but%20his%20legs%20wouldn't%20move.%20He%20tried%20to%20will%20them%20to%20work,%20but%20they%20wouldn't%20listen%20to%20his%20brain.%20Ten%20more%20steps%20and%20it%20would%20be%20over%20but%20it%20didn't%20appear%20he%20would%20be%20able%20to%20do%20it.,was,Time,wa5 HTTP/1.1\" 200 -\n"
     ]
    },
    {
     "name": "stdout",
     "output_type": "stream",
     "text": [
      "exists\n"
     ]
    }
   ],
   "source": [
    "from werkzeug.wrappers import Request, Response\n",
    "from flask import Flask, render_template, request, url_for, flash, redirect\n",
    "from ipynb.fs.full.Algorithm2 import create_frequency_table, create_weighted_table, cutParagraph, clean_sentences, one_sentence_summary, summarize, keyWords\n",
    "from ipynb.fs.full.database import insert\n",
    "\n",
    "\n",
    "app = Flask(__name__)\n",
    "app.config['SECRET_KEY'] = 'superdupersecretkeythatnobodywouldeverguess'\n",
    "\n",
    "\n",
    "@app.route(\"/\", methods=('GET', 'POST'))\n",
    "\n",
    "\n",
    "def index():\n",
    "    if request.method == 'POST':\n",
    "        text = str(request.form['text'])\n",
    "        degree = int(request.form['degree'])\n",
    "        #keywords = \"gucci,gang,prada,ysl\"\n",
    "        temp = \"\"\n",
    "        temp1 = keyWords(text)\n",
    "        for word in temp1:\n",
    "            temp = temp + \",\" + word\n",
    "        keywords = temp\n",
    "        outputlist = [text, keywords]\n",
    "        insert(outputlist)\n",
    "        summary = summarize(text, degree)\n",
    "        return redirect(url_for('output', textsum = summary, keywds = keywords, deg = str(degree)))\n",
    "        \n",
    "    return render_template('index.html')\n",
    "\n",
    "\n",
    "@app.route(\"/output/<textsum><keywds><deg>\")\n",
    "def output(textsum, keywds, deg):\n",
    "    #call method, return list\n",
    "    #return_list = []\n",
    "    #return_list.append(name);\n",
    "    return render_template('output.html', outputstr = textsum, outputkey = keywds, outputdeg = deg)\n",
    "\n",
    "\n",
    "if __name__ == '__main__':\n",
    "    from werkzeug.serving import run_simple\n",
    "    run_simple('localhost', 8080, app)\n"
   ]
  },
  {
   "cell_type": "code",
   "execution_count": 6,
   "id": "612471ac",
   "metadata": {},
   "outputs": [],
   "source": [
    "conn.commit()\n",
    "conn.close()"
   ]
  },
  {
   "cell_type": "code",
   "execution_count": null,
   "id": "89101be6",
   "metadata": {},
   "outputs": [],
   "source": []
  }
 ],
 "metadata": {
  "kernelspec": {
   "display_name": "Python 3 (ipykernel)",
   "language": "python",
   "name": "python3"
  },
  "language_info": {
   "codemirror_mode": {
    "name": "ipython",
    "version": 3
   },
   "file_extension": ".py",
   "mimetype": "text/x-python",
   "name": "python",
   "nbconvert_exporter": "python",
   "pygments_lexer": "ipython3",
   "version": "3.10.8"
  }
 },
 "nbformat": 4,
 "nbformat_minor": 5
}
