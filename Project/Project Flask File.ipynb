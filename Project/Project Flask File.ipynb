{
 "cells": [
  {
   "cell_type": "code",
   "execution_count": 1,
   "id": "9dcb30e6",
   "metadata": {},
   "outputs": [],
   "source": [
    "import sqlite3 as sql"
   ]
  },
  {
   "cell_type": "code",
   "execution_count": 2,
   "id": "6702f9b7",
   "metadata": {},
   "outputs": [],
   "source": [
    "conn = sql.connect(\"data.db\")\n",
    "cur = conn.cursor()"
   ]
  },
  {
   "cell_type": "code",
   "execution_count": 3,
   "id": "faf2e6aa",
   "metadata": {},
   "outputs": [
    {
     "data": {
      "text/plain": [
       "[('datatable',)]"
      ]
     },
     "execution_count": 3,
     "metadata": {},
     "output_type": "execute_result"
    }
   ],
   "source": [
    "cur.execute(\"SELECT name FROM sqlite_schema WHERE type ='table' AND name NOT LIKE 'sqlite_%';\")\n",
    "cur.fetchall()"
   ]
  },
  {
   "cell_type": "code",
   "execution_count": null,
   "id": "2e47f787",
   "metadata": {},
   "outputs": [
    {
     "name": "stderr",
     "output_type": "stream",
     "text": [
      "[nltk_data] Downloading package punkt to\n",
      "[nltk_data]     C:\\Users\\jrh25\\AppData\\Roaming\\nltk_data...\n",
      "[nltk_data]   Package punkt is already up-to-date!\n",
      "[nltk_data] Downloading package stopwords to\n",
      "[nltk_data]     C:\\Users\\jrh25\\AppData\\Roaming\\nltk_data...\n",
      "[nltk_data]   Package stopwords is already up-to-date!\n",
      "WARNING: This is a development server. Do not use it in a production deployment. Use a production WSGI server instead.\n",
      " * Running on http://localhost:8080\n",
      "Press CTRL+C to quit\n"
     ]
    },
    {
     "name": "stdout",
     "output_type": "stream",
     "text": [
      "['b']\n",
      "['', 'was', \"n't\", 'wa']\n",
      "['', 'was', 'tree', 'wa']\n",
      "['', 'was', 'picket', 'wa']\n",
      "['', 'was', 'would', 'wa']\n",
      "['', 'was', \"n't\", 'wa']\n",
      "['', 'was', \"n't\", 'wa']\n",
      "['', 'was', 'sandcastle', 'wa']\n",
      "['', 'could', 'person', 'way']\n",
      "['', 'was', 'sandcastle', 'wa']\n",
      "['', 'was', 'top', 'wa']\n",
      "exists\n",
      "[['', 'was', \"n't\", 'wa'], ['', 'was', \"n't\", 'wa'], ['', 'was', \"n't\", 'wa']]\n"
     ]
    },
    {
     "name": "stderr",
     "output_type": "stream",
     "text": [
      "127.0.0.1 - - [25/Nov/2022 16:41:18] \"GET / HTTP/1.1\" 200 -\n",
      "127.0.0.1 - - [25/Nov/2022 16:41:24] \"POST / HTTP/1.1\" 302 -\n",
      "127.0.0.1 - - [25/Nov/2022 16:41:25] \"POST / HTTP/1.1\" 302 -\n"
     ]
    },
    {
     "name": "stdout",
     "output_type": "stream",
     "text": [
      "exists\n"
     ]
    },
    {
     "name": "stderr",
     "output_type": "stream",
     "text": [
      "127.0.0.1 - - [25/Nov/2022 16:41:26] \"POST / HTTP/1.1\" 302 -\n"
     ]
    },
    {
     "name": "stdout",
     "output_type": "stream",
     "text": [
      "exists\n"
     ]
    },
    {
     "name": "stderr",
     "output_type": "stream",
     "text": [
      "127.0.0.1 - - [25/Nov/2022 16:41:27] \"POST / HTTP/1.1\" 302 -\n"
     ]
    },
    {
     "name": "stdout",
     "output_type": "stream",
     "text": [
      "exists\n"
     ]
    },
    {
     "name": "stderr",
     "output_type": "stream",
     "text": [
      "127.0.0.1 - - [25/Nov/2022 16:41:28] \"POST / HTTP/1.1\" 302 -\n"
     ]
    },
    {
     "name": "stdout",
     "output_type": "stream",
     "text": [
      "exists\n"
     ]
    },
    {
     "name": "stderr",
     "output_type": "stream",
     "text": [
      "127.0.0.1 - - [25/Nov/2022 16:41:29] \"POST / HTTP/1.1\" 302 -\n"
     ]
    },
    {
     "name": "stdout",
     "output_type": "stream",
     "text": [
      "exists\n"
     ]
    },
    {
     "name": "stderr",
     "output_type": "stream",
     "text": [
      "127.0.0.1 - - [25/Nov/2022 16:41:30] \"POST / HTTP/1.1\" 302 -\n"
     ]
    },
    {
     "name": "stdout",
     "output_type": "stream",
     "text": [
      "exists\n"
     ]
    },
    {
     "name": "stderr",
     "output_type": "stream",
     "text": [
      "127.0.0.1 - - [25/Nov/2022 16:41:32] \"POST / HTTP/1.1\" 302 -\n",
      "127.0.0.1 - - [25/Nov/2022 16:41:32] \"GET /output/%20When%20you%20are%20a%20child%20an%20hour%20is%20a%20long%20time%20to%20wait%20but%20a%20very%20short%20time%20when%20that’s%20all%20the%20time%20you%20are%20allowed%20on%20your%20iPad.%20As%20a%20young%20adult,%20you%20think%20you%20have%20forever%20to%20live%20and%20don’t%20appreciate%20the%20time%20you%20spend%20with%20others.%20And%20finally,%20as%20you%20get%20old%20and%20you%20have%20fewer%20responsibilities%20and%20fewer%20demands%20on%20you,%20time%20slows.%20Don't%20forget%20that%20gifts%20often%20come%20with%20costs%20that%20go%20beyond%20their%20purchase%20price.%20When%20you%20purchase%20the%20latest%20gaming%20system,%20you're%20likely%20not%20going%20to%20be%20satisfied%20with%20the%20games%20that%20come%20with%20it%20for%20long%20and%20want%20to%20purchase%20new%20titles%20to%20play.%20When%20you%20buy%20gifts%20it's%20important%20to%20remember%20that%20some%20come%20with%20additional%20costs%20down%20the%20road%20that%20can%20be%20much%20more%20expensive%20than%20the%20initial%20gift%20itself.,Time,was,purchase5%5B%5B'',%20'Time',%20'was',%20'purchase'%5D%5D HTTP/1.1\" 200 -\n"
     ]
    },
    {
     "name": "stdout",
     "output_type": "stream",
     "text": [
      "exists\n"
     ]
    },
    {
     "name": "stderr",
     "output_type": "stream",
     "text": [
      "127.0.0.1 - - [25/Nov/2022 16:43:17] \"GET / HTTP/1.1\" 200 -\n",
      "127.0.0.1 - - [25/Nov/2022 16:43:43] \"POST / HTTP/1.1\" 302 -\n",
      "127.0.0.1 - - [25/Nov/2022 16:43:43] \"GET /output/%20Look,%20I'm%20generating%20a%20random%20paragraph%20at%20this%20very%20moment%20in%20an%20attempt%20to%20get%20my%20writing%20back%20on%20track.%20How%20did%20she%20get%20to%20the%20point%20in%20her%20life%20where%20she%20had%20two%20dogs,%20three%20cats,%20and%20a%20raccoon%20sleeping%20with%20her%20every%20night%3F%20The%20sounds%20of%20their%20leaves%20in%20the%20wind%20and%20the%20creaks%20from%20the%20branches%20as%20they%20sway,%20The%20trees%20were%20making%20a%20statement%20that%20I%20just%20couldn't%20understand.%20There%20was%20something%20that%20made%20doing%20anything%20she%20didn't%20really%20want%20to%20do%20a%20bit%20easier%20when%20she%20wore%20it.%20She%20really%20didn't%20care%20what%20those%20staring%20through%20the%20window%20were%20thinking%20as%20she%20vacuumed%20her%20apartment.,writing,Trees,Look6%5B%5B'',%20'writing',%20'Trees',%20'Look'%5D%5D HTTP/1.1\" 200 -\n"
     ]
    }
   ],
   "source": [
    "from werkzeug.wrappers import Request, Response\n",
    "from flask import Flask, render_template, request, url_for, flash, redirect\n",
    "from ipynb.fs.full.Algorithm2 import create_frequency_table, create_weighted_table, cutParagraph, clean_sentences, one_sentence_summary, summarize, keyWords\n",
    "from ipynb.fs.full.database import insert, findMatches\n",
    "\n",
    "\n",
    "app = Flask(__name__)\n",
    "app.config['SECRET_KEY'] = 'superdupersecretkeythatnobodywouldeverguess'\n",
    "\n",
    "\n",
    "@app.route(\"/\", methods=('GET', 'POST'))\n",
    "\n",
    "\n",
    "def index():\n",
    "    if request.method == 'POST':\n",
    "        text = str(request.form['text'])\n",
    "        textdegree = int(request.form['degreeText'])\n",
    "        searchdegree = int(request.form['degreeSearch'])\n",
    "        #keywords = \"gucci,gang,prada,ysl\"\n",
    "        temp = \"\"\n",
    "        temp1 = keyWords(text)\n",
    "        for word in temp1:\n",
    "            temp = temp + \",\" + word\n",
    "        keywords = temp\n",
    "        outputlist = [text, keywords]\n",
    "        insert(outputlist)\n",
    "        summary = summarize(text, textdegree)\n",
    "        \n",
    "        matching = findMatches(keywords.split(\",\"), int(searchdegree))\n",
    "        return redirect(url_for('output', textsum = summary, keywds = keywords, deg = str(textdegree), matchingkeywords = matching))\n",
    "        \n",
    "    return render_template('index.html')\n",
    "\n",
    "\n",
    "@app.route(\"/output/<textsum><keywds><deg><matchingkeywords>\")\n",
    "def output(textsum, keywds, deg, matchingkeywords):\n",
    "    #call method, return list\n",
    "    #return_list = []\n",
    "    #return_list.append(name);\n",
    "    return render_template('output.html', outputstr = textsum, outputkey = keywds, outputdeg = deg, outputsearchlist = matchingkeywords)\n",
    "\n",
    "\n",
    "if __name__ == '__main__':\n",
    "    from werkzeug.serving import run_simple\n",
    "    run_simple('localhost', 8080, app)\n"
   ]
  },
  {
   "cell_type": "code",
   "execution_count": null,
   "id": "612471ac",
   "metadata": {},
   "outputs": [],
   "source": [
    "conn.commit()\n",
    "conn.close()"
   ]
  },
  {
   "cell_type": "code",
   "execution_count": null,
   "id": "89101be6",
   "metadata": {},
   "outputs": [],
   "source": []
  }
 ],
 "metadata": {
  "kernelspec": {
   "display_name": "Python 3 (ipykernel)",
   "language": "python",
   "name": "python3"
  },
  "language_info": {
   "codemirror_mode": {
    "name": "ipython",
    "version": 3
   },
   "file_extension": ".py",
   "mimetype": "text/x-python",
   "name": "python",
   "nbconvert_exporter": "python",
   "pygments_lexer": "ipython3",
   "version": "3.10.8"
  }
 },
 "nbformat": 4,
 "nbformat_minor": 5
}
