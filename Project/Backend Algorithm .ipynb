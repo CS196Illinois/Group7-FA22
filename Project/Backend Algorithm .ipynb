{
 "cells": [
  {
   "cell_type": "code",
   "execution_count": 13,
   "id": "5c1901c5",
   "metadata": {},
   "outputs": [],
   "source": [
    "def hasCommonElements(list1, list2, num):\n",
    "    count = 0\n",
    "    for l1 in list1:\n",
    "        for l2 in list2:\n",
    "            if (l1 == l2):\n",
    "                count = count + 1;\n",
    "    if (count == num):\n",
    "        return True\n",
    "    return False        "
   ]
  },
  {
   "cell_type": "code",
   "execution_count": 16,
   "id": "3bbe21bd",
   "metadata": {},
   "outputs": [
    {
     "name": "stdout",
     "output_type": "stream",
     "text": [
      "False\n"
     ]
    }
   ],
   "source": [
    "l1 = [1, 2, 3]\n",
    "l2 = [2, 1, 3]\n",
    "print(hasCommonElements(l1, l2, 2))"
   ]
  },
  {
   "cell_type": "code",
   "execution_count": null,
   "id": "bf866e30",
   "metadata": {},
   "outputs": [],
   "source": []
  }
 ],
 "metadata": {
  "kernelspec": {
   "display_name": "Python 3 (ipykernel)",
   "language": "python",
   "name": "python3"
  },
  "language_info": {
   "codemirror_mode": {
    "name": "ipython",
    "version": 3
   },
   "file_extension": ".py",
   "mimetype": "text/x-python",
   "name": "python",
   "nbconvert_exporter": "python",
   "pygments_lexer": "ipython3",
   "version": "3.9.12"
  }
 },
 "nbformat": 4,
 "nbformat_minor": 5
}
