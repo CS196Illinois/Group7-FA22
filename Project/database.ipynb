{
 "cells": [
  {
   "cell_type": "code",
   "execution_count": 6,
   "id": "d13cd8f0",
   "metadata": {},
   "outputs": [],
   "source": [
    "import sqlite3 as sql"
   ]
  },
  {
   "cell_type": "code",
   "execution_count": 7,
   "id": "54e7a666",
   "metadata": {},
   "outputs": [],
   "source": [
    "conn = sql.connect(\"data.db\")"
   ]
  },
  {
   "cell_type": "code",
   "execution_count": 8,
   "id": "5d7acd26",
   "metadata": {},
   "outputs": [],
   "source": [
    "cur = conn.cursor()"
   ]
  },
  {
   "cell_type": "code",
   "execution_count": 9,
   "id": "dfe0c468",
   "metadata": {},
   "outputs": [],
   "source": [
    "#cur.execute(\"DROP TABLE datatable;\")"
   ]
  },
  {
   "cell_type": "code",
   "execution_count": 10,
   "id": "e0e4a6b3",
   "metadata": {},
   "outputs": [],
   "source": [
    "#cur.execute(\"CREATE TABLE datatable(text MEDIUMTEXT, keywords varchar(100), PRIMARY KEY(text));\")"
   ]
  },
  {
   "cell_type": "code",
   "execution_count": 11,
   "id": "2327d773",
   "metadata": {},
   "outputs": [
    {
     "data": {
      "text/plain": [
       "[('datatable',)]"
      ]
     },
     "execution_count": 11,
     "metadata": {},
     "output_type": "execute_result"
    }
   ],
   "source": [
    "cur.execute(\"SELECT name FROM sqlite_schema WHERE type='table' AND name NOT LIKE 'sqlite_%';\")\n",
    "cur.fetchall()"
   ]
  },
  {
   "cell_type": "code",
   "execution_count": 12,
   "id": "d574ca49",
   "metadata": {},
   "outputs": [],
   "source": [
    "conn.commit()"
   ]
  },
  {
   "cell_type": "code",
   "execution_count": 13,
   "id": "4075c1ef",
   "metadata": {},
   "outputs": [],
   "source": [
    "def insert(values):\n",
    "    # opened and closed connection here since Flask started giving errors about closed database\n",
    "    conn = sql.connect(\"data.db\")\n",
    "    cur = conn.cursor()\n",
    "    tester = [values[0]]\n",
    "    cur.execute(\"select * from datatable where text = ?\", tester)\n",
    "    output = cur.fetchall()\n",
    "    if len(output) == 0:\n",
    "        cur.execute(\"INSERT INTO datatable (text, keywords) VALUES (?, ?)\", values)\n",
    "        conn.commit()\n",
    "    else:\n",
    "        print(\"exists\")\n",
    "    conn.close()"
   ]
  },
  {
   "cell_type": "code",
   "execution_count": 14,
   "id": "df521a91",
   "metadata": {},
   "outputs": [
    {
     "data": {
      "text/plain": [
       "[('hisss', 'b'),\n",
       " ('\"It doesn\\'t take much to touch someone\\'s heart,\" Daisy said with a smile on her face. \"It\\'s often just the little things you do that can change a person\\'s day for the better.\" Daisy truly believed this to be the way the world worked, but she didn\\'t understand that she was merely a robot that had been programmed to believe this. Frank knew there was a correct time and place to reveal his secret and this wasn\\'t it. The issue was that the secret might be revealed despite his best attempt to keep it from coming out. At this point, it was out of his control and completely dependant on those around him who also knew the secret. They wouldn\\'t purposely reveal it, or at least he believed that, but they could easily inadvertently expose it. It was going to be a long hour as he nervously eyed everyone around the table hoping they would keep their mouths shut.',\n",
       "  \",was,n't,wa\"),\n",
       " (\"The tree missed the days the kids used to come by and play. It still wore the tire swing the kids had put up in its branches years ago although both the tire and the rope had seen better days. The tree had watched all the kids in the neighborhood grow up and leave, and it wondered if there would ever be a time when another child played and laughed again under its branches. That was the hope that the tree wished every day as the swing gently swung empty in the wind. Sometimes that's just the way it has to be. Sure, there were probably other options, but he didn't let them enter his mind. It was done and that was that. It was just the way it had to be.\",\n",
       "  ',was,tree,wa'),\n",
       " (\"The house was located at the top of the hill at the end of a winding road. It wasn't obvious that the house was there, but everyone in town knew that it existed. They were just all too afraid to ever go and see it in person. The picket fence had stood for years without any issue. That's all it was. A simple, white, picket fence. Why it had all of a sudden become a lightning rod within the community was still unbelievable to most. Yet a community that had once lived in harmony was now divided in bitter hatred and it had everything to do with the white picket fence.\",\n",
       "  ',was,picket,wa'),\n",
       " (\"She patiently waited for his number to be called. She had no desire to be there, but her mom had insisted that she go. She's resisted at first, but over time she realized it was simply easier to appease her and go. Mom tended to be that way. She would keep insisting until you wore down and did what she wanted. So, here she sat, patiently waiting for her number to be called. Terrance knew that sometimes it was simply best to stay out of it. He kept repeating this to himself as he watched the scene unfold. He knew that nothing good would come of him getting involved. It was far better for him to stay on the sidelines and observe. He kept yelling this to himself inside his head as he walked over to the couple and punched the man in the face. He lifted the bottle to his lips and took a sip of the drink. He had tasted this before, but he couldn't quite remember the time and place it had happened. He desperately searched his mind trying to locate and remember where he had tasted this when the bicycle ran over his foot. He wandered down the stairs and into the basement. The damp, musty smell of unuse hung in the air. A single, small window let in a glimmer of light, but this simply made the shadows in the basement deeper. He inhaled deeply and looked around at a mess that had been accumulating for over 25 years. He was positive that this was the place he wanted to live. The house was located at the top of the hill at the end of a winding road. It wasn't obvious that the house was there, but everyone in town knew that it existed. They were just all too afraid to ever go and see it in person. The drug seekers would come into the emergency room and scream about how much pain they were in. When you told them that you would start elevating their pain with Tylenol or Advil instead of a narcotic they became nasty and combative. They would start telling you what drug and dose they had to have to make their pain tolerable. After dealing with the same drug seekers several times a month it gets old. Some of the doctors would give in and give them a dose of morphine and send them away. Sure that was faster, but ethically she still couldn’t do it. Perhaps that’s why she had longer care times than the other doctors.\",\n",
       "  ',was,would,wa'),\n",
       " ('He slowly poured the drink over a large chunk of ice he has especially chiseled off a larger block. He didn\\'t particularly like his drinks cold, but he knew that the drama of chiseling the ice and then pouring a drink over it looked far more impressive than how he actually liked it. It was all about image and he\\'d managed to perfect the image that he wanted to project. The robot clicked disapprovingly, gurgled briefly inside its cubical interior and extruded a pony glass of brownish liquid. \"Sir, you will undoubtedly end up in a drunkard\\'s grave, dead of hepatic cirrhosis,\" it informed me virtuously as it returned my ID card. I glared as I pushed the glass across the table. At that moment, she realized that she had created her current life. It wasn\\'t the life she wanted, but she took responsibility for how it currently stood. Something clicked and she saw that every choice she made to this point in her life had led to where her life stood at this very moment even if she knew this wasn\\'t where she wanted to be. She determined to choose to change it. It\\'s an unfortunate reality that we don\\'t teach people how to make money (beyond getting a 9 to 5 job) as part of our education system. The truth is there are a lot of different, legitimate ways to make money. That doesn\\'t mean they are easy and that you won\\'t have to work hard to succeed, but it does mean that if you\\'re willing to open your mind a bit you don\\'t have to be stuck in an office from 9 to 5 for the next fifty years o your life. The red line moved across the page. With each millimeter it advanced forward, something changed in the room. The actual change taking place was difficult to perceive, but the change was real. The red line continued relentlessly across the page and the room would never be the same. Brenda never wanted to be famous. While most of her friends dreamed about being famous, she could see the negative aspects that those who wanted to be famous seemed to ignore. The fact that you could never do anything in public without being mobbed and the complete lack of privacy was something that she never wanted to experience. She also had no desire to have strangers speculating about every aspect of her life and what each thing she did was supposed to mean. Brenda was perfectly happy with her anonymous life where she could do exactly as she wanted without anyone else giving a damn. Thus, her overnight Internet celebrity was not something she was thrilled about as her friends told her how lucky she was.',\n",
       "  \",was,n't,wa\")]"
      ]
     },
     "execution_count": 14,
     "metadata": {},
     "output_type": "execute_result"
    }
   ],
   "source": [
    "cur.execute(\"select * from datatable\")\n",
    "cur.fetchall()"
   ]
  },
  {
   "cell_type": "code",
   "execution_count": 15,
   "id": "aad859ea",
   "metadata": {},
   "outputs": [
    {
     "data": {
      "text/plain": [
       "[(1, 'hisss', 'b'),\n",
       " (2,\n",
       "  '\"It doesn\\'t take much to touch someone\\'s heart,\" Daisy said with a smile on her face. \"It\\'s often just the little things you do that can change a person\\'s day for the better.\" Daisy truly believed this to be the way the world worked, but she didn\\'t understand that she was merely a robot that had been programmed to believe this. Frank knew there was a correct time and place to reveal his secret and this wasn\\'t it. The issue was that the secret might be revealed despite his best attempt to keep it from coming out. At this point, it was out of his control and completely dependant on those around him who also knew the secret. They wouldn\\'t purposely reveal it, or at least he believed that, but they could easily inadvertently expose it. It was going to be a long hour as he nervously eyed everyone around the table hoping they would keep their mouths shut.',\n",
       "  \",was,n't,wa\"),\n",
       " (3,\n",
       "  \"The tree missed the days the kids used to come by and play. It still wore the tire swing the kids had put up in its branches years ago although both the tire and the rope had seen better days. The tree had watched all the kids in the neighborhood grow up and leave, and it wondered if there would ever be a time when another child played and laughed again under its branches. That was the hope that the tree wished every day as the swing gently swung empty in the wind. Sometimes that's just the way it has to be. Sure, there were probably other options, but he didn't let them enter his mind. It was done and that was that. It was just the way it had to be.\",\n",
       "  ',was,tree,wa'),\n",
       " (4,\n",
       "  \"The house was located at the top of the hill at the end of a winding road. It wasn't obvious that the house was there, but everyone in town knew that it existed. They were just all too afraid to ever go and see it in person. The picket fence had stood for years without any issue. That's all it was. A simple, white, picket fence. Why it had all of a sudden become a lightning rod within the community was still unbelievable to most. Yet a community that had once lived in harmony was now divided in bitter hatred and it had everything to do with the white picket fence.\",\n",
       "  ',was,picket,wa'),\n",
       " (5,\n",
       "  \"She patiently waited for his number to be called. She had no desire to be there, but her mom had insisted that she go. She's resisted at first, but over time she realized it was simply easier to appease her and go. Mom tended to be that way. She would keep insisting until you wore down and did what she wanted. So, here she sat, patiently waiting for her number to be called. Terrance knew that sometimes it was simply best to stay out of it. He kept repeating this to himself as he watched the scene unfold. He knew that nothing good would come of him getting involved. It was far better for him to stay on the sidelines and observe. He kept yelling this to himself inside his head as he walked over to the couple and punched the man in the face. He lifted the bottle to his lips and took a sip of the drink. He had tasted this before, but he couldn't quite remember the time and place it had happened. He desperately searched his mind trying to locate and remember where he had tasted this when the bicycle ran over his foot. He wandered down the stairs and into the basement. The damp, musty smell of unuse hung in the air. A single, small window let in a glimmer of light, but this simply made the shadows in the basement deeper. He inhaled deeply and looked around at a mess that had been accumulating for over 25 years. He was positive that this was the place he wanted to live. The house was located at the top of the hill at the end of a winding road. It wasn't obvious that the house was there, but everyone in town knew that it existed. They were just all too afraid to ever go and see it in person. The drug seekers would come into the emergency room and scream about how much pain they were in. When you told them that you would start elevating their pain with Tylenol or Advil instead of a narcotic they became nasty and combative. They would start telling you what drug and dose they had to have to make their pain tolerable. After dealing with the same drug seekers several times a month it gets old. Some of the doctors would give in and give them a dose of morphine and send them away. Sure that was faster, but ethically she still couldn’t do it. Perhaps that’s why she had longer care times than the other doctors.\",\n",
       "  ',was,would,wa'),\n",
       " (6,\n",
       "  'He slowly poured the drink over a large chunk of ice he has especially chiseled off a larger block. He didn\\'t particularly like his drinks cold, but he knew that the drama of chiseling the ice and then pouring a drink over it looked far more impressive than how he actually liked it. It was all about image and he\\'d managed to perfect the image that he wanted to project. The robot clicked disapprovingly, gurgled briefly inside its cubical interior and extruded a pony glass of brownish liquid. \"Sir, you will undoubtedly end up in a drunkard\\'s grave, dead of hepatic cirrhosis,\" it informed me virtuously as it returned my ID card. I glared as I pushed the glass across the table. At that moment, she realized that she had created her current life. It wasn\\'t the life she wanted, but she took responsibility for how it currently stood. Something clicked and she saw that every choice she made to this point in her life had led to where her life stood at this very moment even if she knew this wasn\\'t where she wanted to be. She determined to choose to change it. It\\'s an unfortunate reality that we don\\'t teach people how to make money (beyond getting a 9 to 5 job) as part of our education system. The truth is there are a lot of different, legitimate ways to make money. That doesn\\'t mean they are easy and that you won\\'t have to work hard to succeed, but it does mean that if you\\'re willing to open your mind a bit you don\\'t have to be stuck in an office from 9 to 5 for the next fifty years o your life. The red line moved across the page. With each millimeter it advanced forward, something changed in the room. The actual change taking place was difficult to perceive, but the change was real. The red line continued relentlessly across the page and the room would never be the same. Brenda never wanted to be famous. While most of her friends dreamed about being famous, she could see the negative aspects that those who wanted to be famous seemed to ignore. The fact that you could never do anything in public without being mobbed and the complete lack of privacy was something that she never wanted to experience. She also had no desire to have strangers speculating about every aspect of her life and what each thing she did was supposed to mean. Brenda was perfectly happy with her anonymous life where she could do exactly as she wanted without anyone else giving a damn. Thus, her overnight Internet celebrity was not something she was thrilled about as her friends told her how lucky she was.',\n",
       "  \",was,n't,wa\")]"
      ]
     },
     "execution_count": 15,
     "metadata": {},
     "output_type": "execute_result"
    }
   ],
   "source": [
    "# SQL gives each row a pseudocolumn, rowid\n",
    "cur.execute(\"SELECT rowid, * FROM datatable\")\n",
    "cur.fetchall()"
   ]
  },
  {
   "cell_type": "code",
   "execution_count": 16,
   "id": "9ad7ad07",
   "metadata": {},
   "outputs": [
    {
     "data": {
      "text/plain": [
       "False"
      ]
     },
     "execution_count": 16,
     "metadata": {},
     "output_type": "execute_result"
    }
   ],
   "source": [
    "from ipynb.fs.full.Common_Elements_Algorithm import hasCommonElements\n",
    "\n",
    "l1 = [1, 2, 3, 4]\n",
    "l2 = [3, 2, 1, 4]\n",
    "hasCommonElements(l1, l2, 5)"
   ]
  },
  {
   "cell_type": "code",
   "execution_count": 17,
   "id": "5dd20245",
   "metadata": {},
   "outputs": [
    {
     "name": "stdout",
     "output_type": "stream",
     "text": [
      "['b']\n",
      "['', 'was', \"n't\", 'wa']\n",
      "['', 'was', 'tree', 'wa']\n",
      "['', 'was', 'picket', 'wa']\n",
      "['', 'was', 'would', 'wa']\n",
      "['', 'was', \"n't\", 'wa']\n"
     ]
    }
   ],
   "source": [
    "cur.execute(\"select keywords from datatable\")\n",
    "for row in cur:\n",
    "    keyWordList = row[0].split(\",\")\n",
    "    print(keyWordList)"
   ]
  },
  {
   "cell_type": "code",
   "execution_count": 18,
   "id": "46b66f6f",
   "metadata": {},
   "outputs": [],
   "source": [
    "def findMatches(inputKeys, degreesOfSimilarity):\n",
    "    searchList = []\n",
    "    conn = sql.connect(\"data.db\")\n",
    "    cur = conn.cursor()\n",
    "    cur.execute(\"select keywords from datatable\")\n",
    "    for row in cur:\n",
    "        keyWordList = row[0].split(\",\")\n",
    "        if hasCommonElements(keyWordList, inputKeys, degreesOfSimilarity) == True:\n",
    "            searchList.append(keyWordList)\n",
    "    conn.commit()\n",
    "    conn.close()\n",
    "    return searchList"
   ]
  },
  {
   "cell_type": "code",
   "execution_count": 19,
   "id": "6ed09c85",
   "metadata": {},
   "outputs": [
    {
     "name": "stdout",
     "output_type": "stream",
     "text": [
      "exists\n"
     ]
    }
   ],
   "source": [
    "t = \"hisss\"\n",
    "x = \"b\"\n",
    "values = [t, x]\n",
    "insert(values)"
   ]
  },
  {
   "cell_type": "code",
   "execution_count": 20,
   "id": "6adb4a15",
   "metadata": {},
   "outputs": [],
   "source": [
    "conn.commit()\n",
    "conn.close()"
   ]
  },
  {
   "cell_type": "code",
   "execution_count": 23,
   "id": "f6a94eee",
   "metadata": {},
   "outputs": [
    {
     "name": "stdout",
     "output_type": "stream",
     "text": [
      "[['', 'was', \"n't\", 'wa'], ['', 'was', \"n't\", 'wa']]\n"
     ]
    }
   ],
   "source": [
    "testlist = ['', 'was', \"n't\", 'wa']\n",
    "print(findMatches(testlist, 4))"
   ]
  },
  {
   "cell_type": "code",
   "execution_count": null,
   "id": "5162588e",
   "metadata": {},
   "outputs": [],
   "source": []
  }
 ],
 "metadata": {
  "kernelspec": {
   "display_name": "Python 3 (ipykernel)",
   "language": "python",
   "name": "python3"
  },
  "language_info": {
   "codemirror_mode": {
    "name": "ipython",
    "version": 3
   },
   "file_extension": ".py",
   "mimetype": "text/x-python",
   "name": "python",
   "nbconvert_exporter": "python",
   "pygments_lexer": "ipython3",
   "version": "3.10.8"
  }
 },
 "nbformat": 4,
 "nbformat_minor": 5
}
