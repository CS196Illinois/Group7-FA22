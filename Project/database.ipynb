{
 "cells": [
  {
   "cell_type": "code",
   "execution_count": 1,
   "id": "d13cd8f0",
   "metadata": {},
   "outputs": [],
   "source": [
    "import sqlite3 as sql"
   ]
  },
  {
   "cell_type": "code",
   "execution_count": 2,
   "id": "54e7a666",
   "metadata": {},
   "outputs": [],
   "source": [
    "conn = sql.connect(\"data.db\")"
   ]
  },
  {
   "cell_type": "code",
   "execution_count": 3,
   "id": "5d7acd26",
   "metadata": {},
   "outputs": [],
   "source": [
    "cur = conn.cursor()"
   ]
  },
  {
   "cell_type": "code",
   "execution_count": 4,
   "id": "dfe0c468",
   "metadata": {},
   "outputs": [],
   "source": [
    "#cur.execute(\"DROP TABLE datatable;\")"
   ]
  },
  {
   "cell_type": "code",
   "execution_count": 5,
   "id": "e0e4a6b3",
   "metadata": {},
   "outputs": [],
   "source": [
    "#cur.execute(\"CREATE TABLE datatable(text MEDIUMTEXT, keywords varchar(100), PRIMARY KEY(text));\")"
   ]
  },
  {
   "cell_type": "code",
   "execution_count": 6,
   "id": "2327d773",
   "metadata": {},
   "outputs": [
    {
     "data": {
      "text/plain": [
       "[('datatable',)]"
      ]
     },
     "execution_count": 6,
     "metadata": {},
     "output_type": "execute_result"
    }
   ],
   "source": [
    "cur.execute(\"SELECT name FROM sqlite_schema WHERE type='table' AND name NOT LIKE 'sqlite_%';\")\n",
    "cur.fetchall()"
   ]
  },
  {
   "cell_type": "code",
   "execution_count": 7,
   "id": "d574ca49",
   "metadata": {},
   "outputs": [],
   "source": [
    "conn.commit()"
   ]
  },
  {
   "cell_type": "code",
   "execution_count": 8,
   "id": "4075c1ef",
   "metadata": {},
   "outputs": [],
   "source": [
    "def insert(values):\n",
    "    # opened and closed connection here since Flask started giving errors about closed database\n",
    "    conn = sql.connect(\"data.db\")\n",
    "    cur = conn.cursor()\n",
    "    tester = [values[0]]\n",
    "    cur.execute(\"select * from datatable where text = ?\", tester)\n",
    "    output = cur.fetchall()\n",
    "    if len(output) == 0:\n",
    "        cur.execute(\"INSERT INTO datatable (text, keywords) VALUES (?, ?)\", values)\n",
    "        conn.commit()\n",
    "    else:\n",
    "        print(\"exists\")\n",
    "    conn.close()"
   ]
  },
  {
   "cell_type": "code",
   "execution_count": 9,
   "id": "df521a91",
   "metadata": {},
   "outputs": [
    {
     "data": {
      "text/plain": [
       "[('hisss', 'b'),\n",
       " ('\"It doesn\\'t take much to touch someone\\'s heart,\" Daisy said with a smile on her face. \"It\\'s often just the little things you do that can change a person\\'s day for the better.\" Daisy truly believed this to be the way the world worked, but she didn\\'t understand that she was merely a robot that had been programmed to believe this. Frank knew there was a correct time and place to reveal his secret and this wasn\\'t it. The issue was that the secret might be revealed despite his best attempt to keep it from coming out. At this point, it was out of his control and completely dependant on those around him who also knew the secret. They wouldn\\'t purposely reveal it, or at least he believed that, but they could easily inadvertently expose it. It was going to be a long hour as he nervously eyed everyone around the table hoping they would keep their mouths shut.',\n",
       "  \",was,n't,wa\"),\n",
       " (\"The tree missed the days the kids used to come by and play. It still wore the tire swing the kids had put up in its branches years ago although both the tire and the rope had seen better days. The tree had watched all the kids in the neighborhood grow up and leave, and it wondered if there would ever be a time when another child played and laughed again under its branches. That was the hope that the tree wished every day as the swing gently swung empty in the wind. Sometimes that's just the way it has to be. Sure, there were probably other options, but he didn't let them enter his mind. It was done and that was that. It was just the way it had to be.\",\n",
       "  ',was,tree,wa'),\n",
       " (\"The house was located at the top of the hill at the end of a winding road. It wasn't obvious that the house was there, but everyone in town knew that it existed. They were just all too afraid to ever go and see it in person. The picket fence had stood for years without any issue. That's all it was. A simple, white, picket fence. Why it had all of a sudden become a lightning rod within the community was still unbelievable to most. Yet a community that had once lived in harmony was now divided in bitter hatred and it had everything to do with the white picket fence.\",\n",
       "  ',was,picket,wa'),\n",
       " (\"She patiently waited for his number to be called. She had no desire to be there, but her mom had insisted that she go. She's resisted at first, but over time she realized it was simply easier to appease her and go. Mom tended to be that way. She would keep insisting until you wore down and did what she wanted. So, here she sat, patiently waiting for her number to be called. Terrance knew that sometimes it was simply best to stay out of it. He kept repeating this to himself as he watched the scene unfold. He knew that nothing good would come of him getting involved. It was far better for him to stay on the sidelines and observe. He kept yelling this to himself inside his head as he walked over to the couple and punched the man in the face. He lifted the bottle to his lips and took a sip of the drink. He had tasted this before, but he couldn't quite remember the time and place it had happened. He desperately searched his mind trying to locate and remember where he had tasted this when the bicycle ran over his foot. He wandered down the stairs and into the basement. The damp, musty smell of unuse hung in the air. A single, small window let in a glimmer of light, but this simply made the shadows in the basement deeper. He inhaled deeply and looked around at a mess that had been accumulating for over 25 years. He was positive that this was the place he wanted to live. The house was located at the top of the hill at the end of a winding road. It wasn't obvious that the house was there, but everyone in town knew that it existed. They were just all too afraid to ever go and see it in person. The drug seekers would come into the emergency room and scream about how much pain they were in. When you told them that you would start elevating their pain with Tylenol or Advil instead of a narcotic they became nasty and combative. They would start telling you what drug and dose they had to have to make their pain tolerable. After dealing with the same drug seekers several times a month it gets old. Some of the doctors would give in and give them a dose of morphine and send them away. Sure that was faster, but ethically she still couldn’t do it. Perhaps that’s why she had longer care times than the other doctors.\",\n",
       "  ',was,would,wa'),\n",
       " ('He slowly poured the drink over a large chunk of ice he has especially chiseled off a larger block. He didn\\'t particularly like his drinks cold, but he knew that the drama of chiseling the ice and then pouring a drink over it looked far more impressive than how he actually liked it. It was all about image and he\\'d managed to perfect the image that he wanted to project. The robot clicked disapprovingly, gurgled briefly inside its cubical interior and extruded a pony glass of brownish liquid. \"Sir, you will undoubtedly end up in a drunkard\\'s grave, dead of hepatic cirrhosis,\" it informed me virtuously as it returned my ID card. I glared as I pushed the glass across the table. At that moment, she realized that she had created her current life. It wasn\\'t the life she wanted, but she took responsibility for how it currently stood. Something clicked and she saw that every choice she made to this point in her life had led to where her life stood at this very moment even if she knew this wasn\\'t where she wanted to be. She determined to choose to change it. It\\'s an unfortunate reality that we don\\'t teach people how to make money (beyond getting a 9 to 5 job) as part of our education system. The truth is there are a lot of different, legitimate ways to make money. That doesn\\'t mean they are easy and that you won\\'t have to work hard to succeed, but it does mean that if you\\'re willing to open your mind a bit you don\\'t have to be stuck in an office from 9 to 5 for the next fifty years o your life. The red line moved across the page. With each millimeter it advanced forward, something changed in the room. The actual change taking place was difficult to perceive, but the change was real. The red line continued relentlessly across the page and the room would never be the same. Brenda never wanted to be famous. While most of her friends dreamed about being famous, she could see the negative aspects that those who wanted to be famous seemed to ignore. The fact that you could never do anything in public without being mobbed and the complete lack of privacy was something that she never wanted to experience. She also had no desire to have strangers speculating about every aspect of her life and what each thing she did was supposed to mean. Brenda was perfectly happy with her anonymous life where she could do exactly as she wanted without anyone else giving a damn. Thus, her overnight Internet celebrity was not something she was thrilled about as her friends told her how lucky she was.',\n",
       "  \",was,n't,wa\"),\n",
       " (\"She sat down with her notebook in her hand, her mind wandering to faraway places. She paused and considered all that had happened. It hadn't gone as expected. When the day began she thought it was going to be a bad one, but as she sat recalling the day's events to write them down, she had to admit, it had been a rather marvelous day. It was a concerning development that he couldn't get out of his mind. He'd had many friends throughout his early years and had fond memories of playing with them, but he couldn't understand how it had all stopped. There was some point as he grew up that he played with each of his friends for the very last time, and he had no idea that it would be the last. The thing that's great about this job is the time sourcing the items involves no traveling. I just look online to buy it. It's really as simple as that. While everyone else is searching for what they can sell, I sit in front of my computer and buy better stuff for less money and spend a fraction of the time doing it. The fog wa\",\n",
       "  \",was,n't,wa\"),\n",
       " (\"It was difficult to explain to them how the diagnosis of certain death had actually given him life. While everyone around him was in tears and upset, he actually felt more at ease. The doctor said it would be less than a year. That gave him a year to live, something he'd failed to do with his daily drudgery of a routine that had passed as life until then. The wave crashed and hit the sandcastle head-on. The sandcastle began to melt under the waves force and as the wave receded, half the sandcastle was gone. The next wave hit, not quite as strong, but still managed to cover the remains of the sandcastle and take more of it away. The third wave, a big one, crashed over the sandcastle completely covering and engulfing it. When it receded, there was no trace the sandcastle ever existed and hours of hard work disappeared forever. He dropped the ball. While most people would think that this was a metaphor of some type, in Joe's case it was absolutely literal. He had hopes of reaching the Major League and that dream\",\n",
       "  ',was,sandcastle,wa'),\n",
       " (\"She had come to the conclusion that you could tell a lot about a person by their ears. The way they stuck out and the size of the earlobes could give you wonderful insights into the person. Of course, she couldn't scientifically prove any of this, but that didn't matter to her. Before anything else, she would size up the ears of the person she was talking to. The lone lamp post of the one-street town flickered, not quite dead but definitely on its way out. Suitcase by her side, she paid no heed to the light, the street or the town. A car was coming down the street and with her arm outstretched and thumb in the air, she had a plan. Do you really listen when you are talking with someone? I have a friend who listens in an unforgiving way. She actually takes every word you say as being something important and when you have a friend that listens like that, words take on a whole new meaning. Wandering down the path to the pond had become a daily routine. Even when the weather wasn't cooperating like today with the \",\n",
       "  ',could,person,way'),\n",
       " ('The trail to the left had a \"Danger! Do Not Pass\" sign telling people to take the trail to the right. This wasn\\'t the way Zeke approached his hiking. Rather than a warning, Zeke read the sign as an invitation to explore an area that would be adventurous and exciting. As the others in the group all shited to the right, Zeke slipped past the danger sign to begin an adventure he would later regret. The answer was within her reach. It was hidden in a box and now that box sat directly in front of her. She\\'d spent years searching for it and could hardly believe she\\'d finally managed to find it. She turned the key to unlock the box and then gently lifted the top. She held her breath in anticipation of finally knowing the answer she had spent so much of her time in search of. As the lid came off she could see that the box was empty. The wave crashed and hit the sandcastle head-on. The sandcastle began to melt under the waves force and as the wave receded, half the sandcastle was gone. The next wave hit, not quite as strong, but still managed to cover the remains of the sandcastle and take more of it away. The third wave, a big one, crashed over the sandcastle completely covering and engulfing it. When it receded, there was no trace the sandcastle ever existed and hours of hard work disappeared forever.',\n",
       "  ',was,sandcastle,wa'),\n",
       " (\"Sarah watched the whirlpool mesmerized. She couldn't take her eyes off the water swirling around and around. She stuck in small twigs and leaves to watch the whirlpool catch them and then suck them down. It bothered her more than a little bit that this could also be used as a metaphor for her life. She patiently waited for his number to be called. She had no desire to be there, but her mom had insisted that she go. She's resisted at first, but over time she realized it was simply easier to appease her and go. Mom tended to be that way. She would keep insisting until you wore down and did what she wanted. So, here she sat, patiently waiting for her number to be called. Her hair was a tangled mess which she tried to make presentable by putting in a lump on the top of her head. It didn't really work although it was a valiant attempt. While most people simply noticed the tangled mess on top of her head, what most people failed to understand that within the tangles mess was an entirely new year. That was her secret. She kept worlds on top of her head. The house was located at the top of the hill at the end of a winding road. It wasn't obvious that the house was there, but everyone in town knew that it existed. They were just all too afraid to ever go and see it in person.\",\n",
       "  ',was,top,wa')]"
      ]
     },
     "execution_count": 9,
     "metadata": {},
     "output_type": "execute_result"
    }
   ],
   "source": [
    "cur.execute(\"select * from datatable\")\n",
    "cur.fetchall()"
   ]
  },
  {
   "cell_type": "code",
   "execution_count": 10,
   "id": "aad859ea",
   "metadata": {},
   "outputs": [
    {
     "data": {
      "text/plain": [
       "[(1, 'hisss', 'b'),\n",
       " (2,\n",
       "  '\"It doesn\\'t take much to touch someone\\'s heart,\" Daisy said with a smile on her face. \"It\\'s often just the little things you do that can change a person\\'s day for the better.\" Daisy truly believed this to be the way the world worked, but she didn\\'t understand that she was merely a robot that had been programmed to believe this. Frank knew there was a correct time and place to reveal his secret and this wasn\\'t it. The issue was that the secret might be revealed despite his best attempt to keep it from coming out. At this point, it was out of his control and completely dependant on those around him who also knew the secret. They wouldn\\'t purposely reveal it, or at least he believed that, but they could easily inadvertently expose it. It was going to be a long hour as he nervously eyed everyone around the table hoping they would keep their mouths shut.',\n",
       "  \",was,n't,wa\"),\n",
       " (3,\n",
       "  \"The tree missed the days the kids used to come by and play. It still wore the tire swing the kids had put up in its branches years ago although both the tire and the rope had seen better days. The tree had watched all the kids in the neighborhood grow up and leave, and it wondered if there would ever be a time when another child played and laughed again under its branches. That was the hope that the tree wished every day as the swing gently swung empty in the wind. Sometimes that's just the way it has to be. Sure, there were probably other options, but he didn't let them enter his mind. It was done and that was that. It was just the way it had to be.\",\n",
       "  ',was,tree,wa'),\n",
       " (4,\n",
       "  \"The house was located at the top of the hill at the end of a winding road. It wasn't obvious that the house was there, but everyone in town knew that it existed. They were just all too afraid to ever go and see it in person. The picket fence had stood for years without any issue. That's all it was. A simple, white, picket fence. Why it had all of a sudden become a lightning rod within the community was still unbelievable to most. Yet a community that had once lived in harmony was now divided in bitter hatred and it had everything to do with the white picket fence.\",\n",
       "  ',was,picket,wa'),\n",
       " (5,\n",
       "  \"She patiently waited for his number to be called. She had no desire to be there, but her mom had insisted that she go. She's resisted at first, but over time she realized it was simply easier to appease her and go. Mom tended to be that way. She would keep insisting until you wore down and did what she wanted. So, here she sat, patiently waiting for her number to be called. Terrance knew that sometimes it was simply best to stay out of it. He kept repeating this to himself as he watched the scene unfold. He knew that nothing good would come of him getting involved. It was far better for him to stay on the sidelines and observe. He kept yelling this to himself inside his head as he walked over to the couple and punched the man in the face. He lifted the bottle to his lips and took a sip of the drink. He had tasted this before, but he couldn't quite remember the time and place it had happened. He desperately searched his mind trying to locate and remember where he had tasted this when the bicycle ran over his foot. He wandered down the stairs and into the basement. The damp, musty smell of unuse hung in the air. A single, small window let in a glimmer of light, but this simply made the shadows in the basement deeper. He inhaled deeply and looked around at a mess that had been accumulating for over 25 years. He was positive that this was the place he wanted to live. The house was located at the top of the hill at the end of a winding road. It wasn't obvious that the house was there, but everyone in town knew that it existed. They were just all too afraid to ever go and see it in person. The drug seekers would come into the emergency room and scream about how much pain they were in. When you told them that you would start elevating their pain with Tylenol or Advil instead of a narcotic they became nasty and combative. They would start telling you what drug and dose they had to have to make their pain tolerable. After dealing with the same drug seekers several times a month it gets old. Some of the doctors would give in and give them a dose of morphine and send them away. Sure that was faster, but ethically she still couldn’t do it. Perhaps that’s why she had longer care times than the other doctors.\",\n",
       "  ',was,would,wa'),\n",
       " (6,\n",
       "  'He slowly poured the drink over a large chunk of ice he has especially chiseled off a larger block. He didn\\'t particularly like his drinks cold, but he knew that the drama of chiseling the ice and then pouring a drink over it looked far more impressive than how he actually liked it. It was all about image and he\\'d managed to perfect the image that he wanted to project. The robot clicked disapprovingly, gurgled briefly inside its cubical interior and extruded a pony glass of brownish liquid. \"Sir, you will undoubtedly end up in a drunkard\\'s grave, dead of hepatic cirrhosis,\" it informed me virtuously as it returned my ID card. I glared as I pushed the glass across the table. At that moment, she realized that she had created her current life. It wasn\\'t the life she wanted, but she took responsibility for how it currently stood. Something clicked and she saw that every choice she made to this point in her life had led to where her life stood at this very moment even if she knew this wasn\\'t where she wanted to be. She determined to choose to change it. It\\'s an unfortunate reality that we don\\'t teach people how to make money (beyond getting a 9 to 5 job) as part of our education system. The truth is there are a lot of different, legitimate ways to make money. That doesn\\'t mean they are easy and that you won\\'t have to work hard to succeed, but it does mean that if you\\'re willing to open your mind a bit you don\\'t have to be stuck in an office from 9 to 5 for the next fifty years o your life. The red line moved across the page. With each millimeter it advanced forward, something changed in the room. The actual change taking place was difficult to perceive, but the change was real. The red line continued relentlessly across the page and the room would never be the same. Brenda never wanted to be famous. While most of her friends dreamed about being famous, she could see the negative aspects that those who wanted to be famous seemed to ignore. The fact that you could never do anything in public without being mobbed and the complete lack of privacy was something that she never wanted to experience. She also had no desire to have strangers speculating about every aspect of her life and what each thing she did was supposed to mean. Brenda was perfectly happy with her anonymous life where she could do exactly as she wanted without anyone else giving a damn. Thus, her overnight Internet celebrity was not something she was thrilled about as her friends told her how lucky she was.',\n",
       "  \",was,n't,wa\"),\n",
       " (7,\n",
       "  \"She sat down with her notebook in her hand, her mind wandering to faraway places. She paused and considered all that had happened. It hadn't gone as expected. When the day began she thought it was going to be a bad one, but as she sat recalling the day's events to write them down, she had to admit, it had been a rather marvelous day. It was a concerning development that he couldn't get out of his mind. He'd had many friends throughout his early years and had fond memories of playing with them, but he couldn't understand how it had all stopped. There was some point as he grew up that he played with each of his friends for the very last time, and he had no idea that it would be the last. The thing that's great about this job is the time sourcing the items involves no traveling. I just look online to buy it. It's really as simple as that. While everyone else is searching for what they can sell, I sit in front of my computer and buy better stuff for less money and spend a fraction of the time doing it. The fog wa\",\n",
       "  \",was,n't,wa\"),\n",
       " (8,\n",
       "  \"It was difficult to explain to them how the diagnosis of certain death had actually given him life. While everyone around him was in tears and upset, he actually felt more at ease. The doctor said it would be less than a year. That gave him a year to live, something he'd failed to do with his daily drudgery of a routine that had passed as life until then. The wave crashed and hit the sandcastle head-on. The sandcastle began to melt under the waves force and as the wave receded, half the sandcastle was gone. The next wave hit, not quite as strong, but still managed to cover the remains of the sandcastle and take more of it away. The third wave, a big one, crashed over the sandcastle completely covering and engulfing it. When it receded, there was no trace the sandcastle ever existed and hours of hard work disappeared forever. He dropped the ball. While most people would think that this was a metaphor of some type, in Joe's case it was absolutely literal. He had hopes of reaching the Major League and that dream\",\n",
       "  ',was,sandcastle,wa'),\n",
       " (9,\n",
       "  \"She had come to the conclusion that you could tell a lot about a person by their ears. The way they stuck out and the size of the earlobes could give you wonderful insights into the person. Of course, she couldn't scientifically prove any of this, but that didn't matter to her. Before anything else, she would size up the ears of the person she was talking to. The lone lamp post of the one-street town flickered, not quite dead but definitely on its way out. Suitcase by her side, she paid no heed to the light, the street or the town. A car was coming down the street and with her arm outstretched and thumb in the air, she had a plan. Do you really listen when you are talking with someone? I have a friend who listens in an unforgiving way. She actually takes every word you say as being something important and when you have a friend that listens like that, words take on a whole new meaning. Wandering down the path to the pond had become a daily routine. Even when the weather wasn't cooperating like today with the \",\n",
       "  ',could,person,way'),\n",
       " (10,\n",
       "  'The trail to the left had a \"Danger! Do Not Pass\" sign telling people to take the trail to the right. This wasn\\'t the way Zeke approached his hiking. Rather than a warning, Zeke read the sign as an invitation to explore an area that would be adventurous and exciting. As the others in the group all shited to the right, Zeke slipped past the danger sign to begin an adventure he would later regret. The answer was within her reach. It was hidden in a box and now that box sat directly in front of her. She\\'d spent years searching for it and could hardly believe she\\'d finally managed to find it. She turned the key to unlock the box and then gently lifted the top. She held her breath in anticipation of finally knowing the answer she had spent so much of her time in search of. As the lid came off she could see that the box was empty. The wave crashed and hit the sandcastle head-on. The sandcastle began to melt under the waves force and as the wave receded, half the sandcastle was gone. The next wave hit, not quite as strong, but still managed to cover the remains of the sandcastle and take more of it away. The third wave, a big one, crashed over the sandcastle completely covering and engulfing it. When it receded, there was no trace the sandcastle ever existed and hours of hard work disappeared forever.',\n",
       "  ',was,sandcastle,wa'),\n",
       " (11,\n",
       "  \"Sarah watched the whirlpool mesmerized. She couldn't take her eyes off the water swirling around and around. She stuck in small twigs and leaves to watch the whirlpool catch them and then suck them down. It bothered her more than a little bit that this could also be used as a metaphor for her life. She patiently waited for his number to be called. She had no desire to be there, but her mom had insisted that she go. She's resisted at first, but over time she realized it was simply easier to appease her and go. Mom tended to be that way. She would keep insisting until you wore down and did what she wanted. So, here she sat, patiently waiting for her number to be called. Her hair was a tangled mess which she tried to make presentable by putting in a lump on the top of her head. It didn't really work although it was a valiant attempt. While most people simply noticed the tangled mess on top of her head, what most people failed to understand that within the tangles mess was an entirely new year. That was her secret. She kept worlds on top of her head. The house was located at the top of the hill at the end of a winding road. It wasn't obvious that the house was there, but everyone in town knew that it existed. They were just all too afraid to ever go and see it in person.\",\n",
       "  ',was,top,wa')]"
      ]
     },
     "execution_count": 10,
     "metadata": {},
     "output_type": "execute_result"
    }
   ],
   "source": [
    "# SQL gives each row a pseudocolumn, rowid\n",
    "cur.execute(\"SELECT rowid, * FROM datatable\")\n",
    "cur.fetchall()"
   ]
  },
  {
   "cell_type": "code",
   "execution_count": 11,
   "id": "9ad7ad07",
   "metadata": {},
   "outputs": [
    {
     "data": {
      "text/plain": [
       "False"
      ]
     },
     "execution_count": 11,
     "metadata": {},
     "output_type": "execute_result"
    }
   ],
   "source": [
    "from ipynb.fs.full.Common_Elements_Algorithm import hasCommonElements\n",
    "\n",
    "l1 = [1, 2, 3, 4]\n",
    "l2 = [3, 2, 1, 4]\n",
    "hasCommonElements(l1, l2, 5)"
   ]
  },
  {
   "cell_type": "code",
   "execution_count": 12,
   "id": "5dd20245",
   "metadata": {},
   "outputs": [
    {
     "name": "stdout",
     "output_type": "stream",
     "text": [
      "['b']\n",
      "['', 'was', \"n't\", 'wa']\n",
      "['', 'was', 'tree', 'wa']\n",
      "['', 'was', 'picket', 'wa']\n",
      "['', 'was', 'would', 'wa']\n",
      "['', 'was', \"n't\", 'wa']\n",
      "['', 'was', \"n't\", 'wa']\n",
      "['', 'was', 'sandcastle', 'wa']\n",
      "['', 'could', 'person', 'way']\n",
      "['', 'was', 'sandcastle', 'wa']\n",
      "['', 'was', 'top', 'wa']\n"
     ]
    }
   ],
   "source": [
    "cur.execute(\"select keywords from datatable\")\n",
    "for row in cur:\n",
    "    keyWordList = row[0].split(\",\")\n",
    "    print(keyWordList)"
   ]
  },
  {
   "cell_type": "code",
   "execution_count": 13,
   "id": "46b66f6f",
   "metadata": {},
   "outputs": [],
   "source": [
    "def findMatches(inputKeys, degreesOfSimilarity):\n",
    "    searchList = []\n",
    "    conn = sql.connect(\"data.db\")\n",
    "    cur = conn.cursor()\n",
    "    cur.execute(\"select keywords from datatable\")\n",
    "    for row in cur:\n",
    "        keyWordList = row[0].split(\",\")\n",
    "        if hasCommonElements(keyWordList, inputKeys, degreesOfSimilarity) == True:\n",
    "            searchList.append(keyWordList)\n",
    "    conn.commit()\n",
    "    conn.close()\n",
    "    return searchList"
   ]
  },
  {
   "cell_type": "code",
   "execution_count": 14,
   "id": "6ed09c85",
   "metadata": {},
   "outputs": [
    {
     "name": "stdout",
     "output_type": "stream",
     "text": [
      "exists\n"
     ]
    }
   ],
   "source": [
    "t = \"hisss\"\n",
    "x = \"b\"\n",
    "values = [t, x]\n",
    "insert(values)"
   ]
  },
  {
   "cell_type": "code",
   "execution_count": 15,
   "id": "6adb4a15",
   "metadata": {},
   "outputs": [],
   "source": [
    "conn.commit()\n",
    "conn.close()"
   ]
  },
  {
   "cell_type": "code",
   "execution_count": 16,
   "id": "f6a94eee",
   "metadata": {},
   "outputs": [
    {
     "name": "stdout",
     "output_type": "stream",
     "text": [
      "[['', 'was', \"n't\", 'wa'], ['', 'was', \"n't\", 'wa'], ['', 'was', \"n't\", 'wa']]\n"
     ]
    }
   ],
   "source": [
    "testlist = ['', 'was', \"n't\", 'wa']\n",
    "print(findMatches(testlist, 4))"
   ]
  },
  {
   "cell_type": "code",
   "execution_count": null,
   "id": "5162588e",
   "metadata": {},
   "outputs": [],
   "source": []
  }
 ],
 "metadata": {
  "kernelspec": {
   "display_name": "Python 3 (ipykernel)",
   "language": "python",
   "name": "python3"
  },
  "language_info": {
   "codemirror_mode": {
    "name": "ipython",
    "version": 3
   },
   "file_extension": ".py",
   "mimetype": "text/x-python",
   "name": "python",
   "nbconvert_exporter": "python",
   "pygments_lexer": "ipython3",
   "version": "3.10.8"
  }
 },
 "nbformat": 4,
 "nbformat_minor": 5
}
