{
 "cells": [
  {
   "cell_type": "code",
   "execution_count": 7,
   "id": "5c1901c5",
   "metadata": {},
   "outputs": [],
   "source": [
    "def hasCommonElements(list1, list2, num):\n",
    "    count = 0\n",
    "    for l1 in list1:\n",
    "        for l2 in list2:\n",
    "            if (l1 == l2):\n",
    "                count = count + 1;\n",
    "    if (count >= num):\n",
    "        return True\n",
    "    return False        "
   ]
  },
  {
   "cell_type": "code",
   "execution_count": null,
   "id": "262c205f",
   "metadata": {},
   "outputs": [],
   "source": []
  }
 ],
 "metadata": {
  "kernelspec": {
   "display_name": "Python 3 (ipykernel)",
   "language": "python",
   "name": "python3"
  },
  "language_info": {
   "codemirror_mode": {
    "name": "ipython",
    "version": 3
   },
   "file_extension": ".py",
   "mimetype": "text/x-python",
   "name": "python",
   "nbconvert_exporter": "python",
   "pygments_lexer": "ipython3",
   "version": "3.10.8"
  }
 },
 "nbformat": 4,
 "nbformat_minor": 5
}
